{
 "cells": [
  {
   "attachments": {},
   "cell_type": "markdown",
   "metadata": {},
   "source": [
    "第12章　列表框Listbox与滚动条Scrollbar"
   ]
  },
  {
   "cell_type": "code",
   "execution_count": 2,
   "metadata": {},
   "outputs": [],
   "source": [
    "from tkinter import *\n",
    "\n",
    "root=Tk()\n",
    "root.title(\"ch12_1\")\n",
    "root.geometry(\"300x180\")\n",
    "\n",
    "lb1=Listbox(root)\n",
    "lb1.pack(side=LEFT,padx=10,pady=10,fill=BOTH,expand=True)\n",
    "lb2=Listbox(root)\n",
    "lb2.pack(side=LEFT,padx=10,pady=10,fill=BOTH,expand=True,anchor=N)\n",
    "\n",
    "root.mainloop()"
   ]
  },
  {
   "cell_type": "code",
   "execution_count": 4,
   "metadata": {},
   "outputs": [],
   "source": [
    "from tkinter import *\n",
    "\n",
    "root=Tk()\n",
    "root.title(\"ch12_2\")\n",
    "root.geometry(\"300x210\")\n",
    "\n",
    "lb=Listbox(root)\n",
    "lb.insert(END,\"Python\")\n",
    "lb.insert(END,\"Java\")\n",
    "lb.insert(END,\"C#\")\n",
    "lb.insert(END,\"C++\")\n",
    "lb.pack(padx=10,pady=10,fill=BOTH,expand=True)\n",
    "\n",
    "root.mainloop()"
   ]
  },
  {
   "cell_type": "code",
   "execution_count": 6,
   "metadata": {},
   "outputs": [],
   "source": [
    "from tkinter import *\n",
    "\n",
    "root=Tk()\n",
    "root.title(\"ch12_3\")\n",
    "root.geometry(\"300x210\")\n",
    "\n",
    "lang=[\"Python\",\"Java\",\"C#\",\"C++\"]\n",
    "\n",
    "lb=Listbox(root)\n",
    "for i in lang:\n",
    "    lb.insert(END,i)\n",
    "lb.pack(padx=10,pady=10,fill=BOTH,expand=True)\n",
    "\n",
    "root.mainloop()"
   ]
  },
  {
   "cell_type": "code",
   "execution_count": 9,
   "metadata": {},
   "outputs": [],
   "source": [
    "from tkinter import *\n",
    "\n",
    "root=Tk()\n",
    "root.title(\"ch12_3\")\n",
    "root.geometry(\"300x210\")\n",
    "\n",
    "lang=[\"Python\",\"Java\",\"C#\",\"C++\"]\n",
    "\n",
    "lb=Listbox(root,selectmode=MULTIPLE)#多选模式,必须再点一下才能取消选择\n",
    "for i in lang:\n",
    "    lb.insert(END,i)\n",
    "lb.pack(padx=10,pady=10,fill=BOTH,expand=True)\n",
    "\n",
    "root.mainloop()"
   ]
  },
  {
   "cell_type": "code",
   "execution_count": 11,
   "metadata": {},
   "outputs": [],
   "source": [
    "from tkinter import *\n",
    "\n",
    "root=Tk()\n",
    "root.title(\"ch12_3\")\n",
    "root.geometry(\"300x210\")\n",
    "\n",
    "lang=[\"Python\",\"Java\",\"C#\",\"C++\"]\n",
    "\n",
    "lb=Listbox(root,selectmode=EXTENDED)#多选模式，可以拉动\n",
    "for i in lang:\n",
    "    lb.insert(END,i)\n",
    "lb.pack(padx=10,pady=10,fill=BOTH,expand=True)\n",
    "\n",
    "root.mainloop()"
   ]
  },
  {
   "attachments": {},
   "cell_type": "markdown",
   "metadata": {},
   "source": [
    "目前插入选项皆是插在最后面，所以语法是insert（END,elements），其实第一个参数是索引值，如果将END改为ACTIVE，表示是在目前选项前面加入一个项目，如果尚未选择选项则此ACTIVE是0。"
   ]
  },
  {
   "cell_type": "code",
   "execution_count": 12,
   "metadata": {},
   "outputs": [],
   "source": [
    "from tkinter import *\n",
    "\n",
    "root=Tk()\n",
    "root.title(\"ch12_3\")\n",
    "root.geometry(\"300x210\")\n",
    "\n",
    "lang=[\"Python\",\"Java\",\"C#\",\"C++\"]\n",
    "\n",
    "lb=Listbox(root,selectmode=EXTENDED)#多选模式，可以拉动\n",
    "for i in lang:\n",
    "    lb.insert(END,i)\n",
    "lb.insert(ACTIVE,\"Ruby\",\"sdd\",\"asdas\")#ACTIVE是当前选中的位置之前\n",
    "lb.pack(padx=10,pady=10,fill=BOTH,expand=True)\n",
    "\n",
    "root.mainloop()"
   ]
  },
  {
   "attachments": {},
   "cell_type": "markdown",
   "metadata": {},
   "source": [
    "##Listbox的基本操作"
   ]
  },
  {
   "cell_type": "code",
   "execution_count": 13,
   "metadata": {},
   "outputs": [
    {
     "name": "stdout",
     "output_type": "stream",
     "text": [
      "4\n"
     ]
    }
   ],
   "source": [
    "from tkinter import *\n",
    "\n",
    "root=Tk()\n",
    "root.title(\"ch12_3\")\n",
    "root.geometry(\"300x210\")\n",
    "\n",
    "lang=[\"Python\",\"Java\",\"C#\",\"C++\"]\n",
    "\n",
    "lb=Listbox(root,selectmode=EXTENDED)#多选模式，可以拉动\n",
    "for i in lang:\n",
    "    lb.insert(END,i)\n",
    "lb.pack(padx=10,pady=10,fill=BOTH,expand=True)\n",
    "\n",
    "print(lb.size())#返回列表框中项目的数量\n",
    "\n",
    "root.mainloop()"
   ]
  },
  {
   "cell_type": "code",
   "execution_count": 17,
   "metadata": {},
   "outputs": [],
   "source": [
    "from tkinter import *\n",
    "\n",
    "root=Tk()\n",
    "root.title(\"ch12_3\")\n",
    "root.geometry(\"300x210\")\n",
    "\n",
    "lang=[\"Python\",\"Java\",\"C#\",\"C++\"]\n",
    "\n",
    "lb=Listbox(root,selectmode=EXTENDED)#多选模式，可以拉动\n",
    "for i in lang:\n",
    "    lb.insert(END,i)\n",
    "lb.pack(padx=10,pady=10,fill=BOTH,expand=True)\n",
    "\n",
    "lb.selection_set(1,3)#设置选中的项目\n",
    "root.mainloop()\n",
    "\n",
    "#如果在selection_set( )方法内有两个参数时，则表示选取区间选项，\n",
    "# 第一个参数是区间的起始索引项，第二个参数是区间的结束索引项。"
   ]
  },
  {
   "cell_type": "code",
   "execution_count": 18,
   "metadata": {},
   "outputs": [],
   "source": [
    "from tkinter import *\n",
    "\n",
    "root=Tk()\n",
    "root.title(\"ch12_3\")\n",
    "root.geometry(\"300x210\")\n",
    "\n",
    "lang=[\"Python\",\"Java\",\"C#\",\"C++\"]\n",
    "\n",
    "lb=Listbox(root,selectmode=EXTENDED)#多选模式，可以拉动\n",
    "for i in lang:\n",
    "    lb.insert(END,i)\n",
    "lb.pack(padx=10,pady=10,fill=BOTH,expand=True)\n",
    "\n",
    "lb.delete(1)#删除选中的项目\n",
    "\n",
    "root.mainloop()"
   ]
  },
  {
   "cell_type": "code",
   "execution_count": 19,
   "metadata": {},
   "outputs": [],
   "source": [
    "from tkinter import *\n",
    "\n",
    "root=Tk()\n",
    "root.title(\"ch12_3\")\n",
    "root.geometry(\"300x210\")\n",
    "\n",
    "lang=[\"Python\",\"Java\",\"C#\",\"C++\"]\n",
    "\n",
    "lb=Listbox(root,selectmode=EXTENDED)#多选模式，可以拉动\n",
    "for i in lang:\n",
    "    lb.insert(END,i)\n",
    "lb.pack(padx=10,pady=10,fill=BOTH,expand=True)\n",
    "\n",
    "lb.delete(1,2)#删除选中的项目\n",
    "\n",
    "root.mainloop()"
   ]
  },
  {
   "cell_type": "code",
   "execution_count": 22,
   "metadata": {},
   "outputs": [
    {
     "name": "stdout",
     "output_type": "stream",
     "text": [
      "('Java', 'C#')\n"
     ]
    }
   ],
   "source": [
    "from tkinter import *\n",
    "\n",
    "root=Tk()\n",
    "root.title(\"ch12_3\")\n",
    "root.geometry(\"300x210\")\n",
    "\n",
    "lang=[\"Python\",\"Java\",\"C#\",\"C++\"]\n",
    "\n",
    "lb=Listbox(root,selectmode=EXTENDED)#多选模式，可以拉动\n",
    "for i in lang:\n",
    "    lb.insert(END,i)\n",
    "lb.pack(padx=10,pady=10,fill=BOTH,expand=True)\n",
    "\n",
    "print(lb.get(1,2))#获取选中的项目\n",
    "#如果在get( )方法内有两个参数时，则表示获取区间选项，返回的是元组\n",
    "root.mainloop()"
   ]
  },
  {
   "cell_type": "code",
   "execution_count": 25,
   "metadata": {},
   "outputs": [
    {
     "name": "stdout",
     "output_type": "stream",
     "text": [
      "(2,)\n",
      "C#\n",
      "(2, 3)\n",
      "C#\n",
      "C++\n",
      "(1, 2, 3)\n",
      "Java\n",
      "C#\n",
      "C++\n"
     ]
    }
   ],
   "source": [
    "from tkinter import *\n",
    "def callback():\n",
    "    indexs=lb.curselection()#获取选中的项目\n",
    "    print(indexs)\n",
    "    for index in indexs:\n",
    "        print(lb.get(index))\n",
    "\n",
    "root=Tk()\n",
    "root.title(\"ch12_14\")\n",
    "#root.geometry(\"300x210\")\n",
    "\n",
    "lang=[\"Python\",\"Java\",\"C#\",\"C++\"]\n",
    "\n",
    "lb=Listbox(root,selectmode=MULTIPLE)#多选模式，可以拉动\n",
    "for i in lang:\n",
    "    lb.insert(END,i)\n",
    "lb.pack(padx=10,pady=10,fill=BOTH,expand=True)\n",
    "\n",
    "btn=Button(root,text=\"获取选中的项目\",command=callback)\n",
    "btn.pack(pady=10)\n",
    "\n",
    "root.mainloop()\n"
   ]
  },
  {
   "cell_type": "code",
   "execution_count": 27,
   "metadata": {},
   "outputs": [
    {
     "name": "stdout",
     "output_type": "stream",
     "text": [
      "True\n"
     ]
    }
   ],
   "source": [
    "from tkinter import *\n",
    "def callback():\n",
    "    print(lb.selection_includes(1))#判断索引项是否被选中,多选也同样可以\n",
    "\n",
    "root=Tk()\n",
    "root.title(\"ch12_14\")\n",
    "#root.geometry(\"300x210\")\n",
    "\n",
    "lang=[\"Python\",\"Java\",\"C#\",\"C++\"]\n",
    "\n",
    "lb=Listbox(root,selectmode=MULTIPLE)#多选模式，可以拉动\n",
    "for i in lang:\n",
    "    lb.insert(END,i)\n",
    "lb.pack(padx=10,pady=10,fill=BOTH,expand=True)\n",
    "\n",
    "btn=Button(root,text=\"获取选中的项目\",command=callback)\n",
    "btn.pack(pady=10)\n",
    "\n",
    "root.mainloop()"
   ]
  },
  {
   "attachments": {},
   "cell_type": "markdown",
   "metadata": {},
   "source": [
    "#12-4　Listbox与事件绑定"
   ]
  },
  {
   "cell_type": "code",
   "execution_count": 31,
   "metadata": {},
   "outputs": [],
   "source": [
    "from tkinter import *\n",
    "\n",
    "def itemSelected(event):\n",
    "    obj=event.widget#获取当前的控件\n",
    "    index=obj.curselection()\n",
    "    var.set(obj.get(index))\n",
    "\n",
    "root=Tk()\n",
    "root.title(\"ch12_16\")\n",
    "#root.geometry(\"300x210\")\n",
    "\n",
    "var=StringVar()\n",
    "lab=Label(root,text=\"\",textvariable=var)\n",
    "lab.pack(pady=10)\n",
    "\n",
    "lang=[\"Python\",\"Java\",\"C#\",\"C++\"]\n",
    "lb=Listbox(root)#多选模式，可以拉动\n",
    "for i in lang:\n",
    "    lb.insert(END,i)\n",
    "lb.pack(padx=10,pady=10,fill=BOTH,expand=True)\n",
    "lb.bind(\"<<ListboxSelect>>\",itemSelected)#绑定事件\n",
    "root.mainloop()"
   ]
  },
  {
   "cell_type": "code",
   "execution_count": 33,
   "metadata": {},
   "outputs": [
    {
     "name": "stdout",
     "output_type": "stream",
     "text": [
      "C++\n",
      "------\n",
      "C#\n",
      "C++\n",
      "------\n",
      "Java\n",
      "C#\n",
      "C++\n",
      "------\n",
      "Python\n",
      "Java\n",
      "C#\n",
      "C++\n",
      "------\n",
      "C++\n",
      "------\n",
      "Python\n",
      "------\n",
      "Python\n",
      "Java\n",
      "------\n",
      "Python\n",
      "Java\n",
      "C#\n",
      "------\n",
      "Python\n",
      "Java\n",
      "C#\n",
      "C++\n",
      "------\n",
      "Python\n",
      "Java\n",
      "C#\n",
      "------\n",
      "Python\n",
      "Java\n",
      "------\n",
      "Python\n",
      "------\n",
      "Python\n",
      "------\n",
      "C++\n",
      "------\n",
      "Python\n",
      "------\n",
      "C++\n",
      "------\n",
      "Python\n",
      "------\n",
      "Python\n",
      "Java\n",
      "------\n",
      "Python\n",
      "Java\n",
      "C#\n",
      "------\n",
      "Python\n",
      "Java\n",
      "C#\n",
      "C++\n",
      "------\n",
      "C++\n",
      "------\n",
      "C++\n",
      "------\n",
      "Java\n",
      "------\n",
      "C++\n",
      "------\n",
      "Python\n",
      "------\n",
      "Python\n",
      "Java\n",
      "------\n",
      "Python\n",
      "Java\n",
      "C#\n",
      "------\n",
      "Python\n",
      "Java\n",
      "C#\n",
      "C++\n",
      "------\n",
      "C++\n",
      "------\n",
      "C#\n",
      "------\n",
      "C#\n",
      "C++\n",
      "------\n",
      "C#\n",
      "------\n",
      "Java\n",
      "C#\n",
      "------\n",
      "Python\n",
      "Java\n",
      "C#\n",
      "------\n",
      "Java\n",
      "C#\n",
      "------\n",
      "C#\n",
      "------\n",
      "Java\n",
      "C#\n",
      "------\n",
      "Python\n",
      "Java\n",
      "C#\n",
      "------\n",
      "Java\n",
      "C#\n",
      "------\n",
      "C#\n",
      "------\n",
      "C#\n",
      "C++\n",
      "------\n"
     ]
    }
   ],
   "source": [
    "from tkinter import *\n",
    "\n",
    "def itemSelected(event):\n",
    "    obj=event.widget#获取当前的控件\n",
    "    index=obj.curselection()\n",
    "    for i in index:\n",
    "        print(obj.get(i))\n",
    "    print(\"------\")\n",
    "\n",
    "root=Tk()\n",
    "root.title(\"ch12_16\")\n",
    "#root.geometry(\"300x210\")\n",
    "\n",
    "lang=[\"Python\",\"Java\",\"C#\",\"C++\"]\n",
    "lb=Listbox(root,selectmode=EXTENDED)#多选模式，可以拉动\n",
    "for i in lang:\n",
    "    lb.insert(END,i)\n",
    "lb.pack(padx=10,pady=10,fill=BOTH,expand=True)\n",
    "lb.bind(\"<<ListboxSelect>>\",itemSelected)#绑定事件\n",
    "root.mainloop()"
   ]
  },
  {
   "cell_type": "code",
   "execution_count": null,
   "metadata": {},
   "outputs": [],
   "source": []
  }
 ],
 "metadata": {
  "kernelspec": {
   "display_name": "py39",
   "language": "python",
   "name": "python3"
  },
  "language_info": {
   "codemirror_mode": {
    "name": "ipython",
    "version": 3
   },
   "file_extension": ".py",
   "mimetype": "text/x-python",
   "name": "python",
   "nbconvert_exporter": "python",
   "pygments_lexer": "ipython3",
   "version": "3.9.16"
  },
  "orig_nbformat": 4
 },
 "nbformat": 4,
 "nbformat_minor": 2
}
