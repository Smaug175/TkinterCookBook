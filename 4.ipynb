{
 "cells": [
  {
   "cell_type": "code",
   "execution_count": 1,
   "metadata": {
    "collapsed": false,
    "pycharm": {
     "name": "#%%\n"
    }
   },
   "outputs": [],
   "source": [
    "from tkinter import *\n",
    "\n",
    "def msgshow():\n",
    "    label['text']='i love joinle'\n",
    "    label['bg']='lightyellow'\n",
    "    label['fg']='blue'\n",
    "\n",
    "root=Tk()\n",
    "root.title()\n",
    "label=Label(root)\n",
    "\n",
    "btn=Button(root,text='print',command=msgshow)\n",
    "label.pack()\n",
    "btn.pack()\n",
    "\n",
    "root.mainloop()\n",
    "\n",
    "print('end')"
   ]
  },
  {
   "cell_type": "code",
   "execution_count": 7,
   "metadata": {
    "collapsed": false,
    "pycharm": {
     "name": "#%%\n"
    }
   },
   "outputs": [],
   "source": [
    "from tkinter import *\n",
    "\n",
    "def msgshow():\n",
    "    label.config(text='i love python',bg='lightyellow',fg='blue')\n",
    "\n",
    "root=Tk()\n",
    "root.title()\n",
    "label=Label(root)\n",
    "\n",
    "btn=Button(root,text='print',width=15,command=msgshow)\n",
    "btn2=Button(root,text='end',width=15,command=root.destroy)\n",
    "label.pack()\n",
    "btn.pack(side=LEFT)\n",
    "btn2.pack(side=LEFT)\n",
    "\n",
    "root.mainloop()"
   ]
  },
  {
   "cell_type": "code",
   "execution_count": 8,
   "metadata": {
    "collapsed": false,
    "pycharm": {
     "name": "#%%\n"
    }
   },
   "outputs": [],
   "source": [
    "from tkinter import *\n",
    "\n",
    "counter=0\n",
    "def run(d):\n",
    "    def c():\n",
    "        global counter\n",
    "        counter+=1\n",
    "        d.config(text=str(counter))\n",
    "        d.after(1000,c)\n",
    "    c()\n",
    "\n",
    "root=Tk()\n",
    "d=Label(root,bg='yellow',fg='blue',\n",
    "        height=3,width=10,\n",
    "        font='Helvetic 20 bold')\n",
    "d.pack()\n",
    "run(d)\n",
    "Button(root,text='end',width=15,command=root.destroy).pack(pady=10)\n",
    "\n",
    "root.mainloop()"
   ]
  },
  {
   "cell_type": "code",
   "execution_count": 11,
   "metadata": {
    "collapsed": false,
    "pycharm": {
     "name": "#%%\n"
    }
   },
   "outputs": [],
   "source": [
    "from tkinter import *\n",
    "\n",
    "def yellow():\n",
    "    root.config(bg='yellow')\n",
    "def blue():\n",
    "    root.config(bg='blue')\n",
    "\n",
    "root=Tk()\n",
    "root.geometry('300x200')\n",
    "Button(root,text='exit',command=root.destroy).pack(anchor=S,side=RIGHT,padx=5,pady=5)\n",
    "Button(root,text='blue',command=blue).pack(anchor=S,side=RIGHT,padx=5,pady=5)\n",
    "Button(root,text='yellow',command=yellow).pack(anchor=S,side=RIGHT,padx=5,pady=5)\n",
    "\n",
    "root.mainloop()"
   ]
  },
  {
   "cell_type": "code",
   "execution_count": 12,
   "metadata": {
    "collapsed": false,
    "pycharm": {
     "name": "#%%\n"
    }
   },
   "outputs": [],
   "source": [
    "from tkinter import *\n",
    "\n",
    "def color_(color):\n",
    "    root.config(bg=color)\n",
    "\n",
    "\n",
    "root=Tk()\n",
    "root.geometry('300x200')\n",
    "Button(root,text='exit',command=root.destroy).pack(anchor=S,side=RIGHT,padx=5,pady=5)\n",
    "Button(root,text='blue',command=lambda :color_('blue')).pack(anchor=S,side=RIGHT,padx=5,pady=5)\n",
    "Button(root,text='yellow',command=lambda :color_('yellow')).pack(anchor=S,side=RIGHT,padx=5,pady=5)\n",
    "\n",
    "root.mainloop()"
   ]
  },
  {
   "cell_type": "code",
   "execution_count": 13,
   "metadata": {
    "collapsed": false,
    "pycharm": {
     "name": "#%%\n"
    }
   },
   "outputs": [],
   "source": [
    "from tkinter import *\n",
    "\n",
    "def msgshow():\n",
    "    label.config(text='i love python',bg='lightyellow',fg='blue')\n",
    "\n",
    "root=Tk()\n",
    "root.title()\n",
    "label=Label(root)\n",
    "\n",
    "gif=PhotoImage(file='2.gif')\n",
    "btn=Button(root,image=gif,width=15,height=15,command=msgshow)\n",
    "label.pack()\n",
    "btn.pack()\n",
    "\n",
    "root.mainloop()"
   ]
  },
  {
   "cell_type": "code",
   "execution_count": 16,
   "metadata": {
    "collapsed": false,
    "pycharm": {
     "name": "#%%\n"
    }
   },
   "outputs": [],
   "source": [
    "from tkinter import *\n",
    "\n",
    "def msgshow():\n",
    "    label.config(text='i love python',bg='lightyellow',fg='blue')\n",
    "\n",
    "root=Tk()\n",
    "root.title()\n",
    "label=Label(root)\n",
    "\n",
    "gif=PhotoImage(file='2.gif')\n",
    "btn=Button(root,image=gif,command=msgshow,text='check me',compound=CENTER)\n",
    "label.pack()\n",
    "btn.pack()\n",
    "\n",
    "root.mainloop()"
   ]
  },
  {
   "attachments": {},
   "cell_type": "markdown",
   "metadata": {
    "collapsed": false,
    "pycharm": {
     "name": "#%% md\n"
    }
   },
   "source": [
    "简易计算器按钮布局的应用程序实例ch4_10.py：简易计算器按钮布局的应用，最上方黄色底是用标签显示，这一般也是数字显示区。"
   ]
  },
  {
   "cell_type": "code",
   "execution_count": 3,
   "metadata": {
    "collapsed": false,
    "pycharm": {
     "name": "#%%\n"
    }
   },
   "outputs": [],
   "source": [
    "from tkinter import *\n",
    "\n",
    "root=Tk()\n",
    "root.title('jisuanqi')\n",
    "\n",
    "lab=Label(root,text='',bg='yellow',width=20)\n",
    "b7=Button(root,text='7',width=3)\n",
    "b8=Button(root,text='8',width=3)\n",
    "b9=Button(root,text='9',width=3)\n",
    "bx=Button(root,text='*',width=3)\n",
    "b4=Button(root,text='4',width=3)\n",
    "b5=Button(root,text='5',width=3)\n",
    "b6=Button(root,text='6',width=3)\n",
    "b_=Button(root,text='-',width=3)\n",
    "b1=Button(root,text='1',width=3)\n",
    "b2=Button(root,text='2',width=3)\n",
    "b3=Button(root,text='3',width=3)\n",
    "bp=Button(root,text='+',width=3)\n",
    "b0=Button(root,text='0',width=8)\n",
    "bD=Button(root,text='.',width=3)\n",
    "bE=Button(root,text='=',width=3)\n",
    "\n",
    "lab.grid(row=0,column=0,columnspan=4)\n",
    "b7.grid(row=1,column=0,padx=5)\n",
    "b8.grid(row=1,column=1,padx=5)\n",
    "b9.grid(row=1,column=2,padx=5)\n",
    "bx.grid(row=1,column=3,padx=5)\n",
    "b4.grid(row=2,column=0,padx=5)\n",
    "b5.grid(row=2,column=1,padx=5)\n",
    "b6.grid(row=2,column=2,padx=5)\n",
    "b_.grid(row=2,column=3,padx=5)\n",
    "b1.grid(row=3,column=0,padx=5)\n",
    "b2.grid(row=3,column=1,padx=5)\n",
    "b3.grid(row=3,column=2,padx=5)\n",
    "bp.grid(row=3,column=3,padx=5)\n",
    "b0.grid(row=4,column=0,padx=5,columnspan=2)\n",
    "bD.grid(row=4,column=2,padx=5)\n",
    "bE.grid(row=4,column=3,padx=5)\n",
    "\n",
    "root.mainloop()\n"
   ]
  },
  {
   "attachments": {},
   "cell_type": "markdown",
   "metadata": {
    "collapsed": false,
    "pycharm": {
     "name": "#%% md\n"
    }
   },
   "source": [
    "设计鼠标光标在功能按钮上的形状在2-14节已经说明了鼠标光标在标签上的形状了，并且在1-6节有说过这是常用属性，所以也可以将此观念应用于功能按钮，它的用法与2-14节程序实例ch2_24.py相同，下面将直接以实例讲解。程序实例ch4_11.py：扩充设计ch4_6.py，当鼠标光标在功能按钮上时形状是star"
   ]
  },
  {
   "cell_type": "code",
   "execution_count": 19,
   "metadata": {
    "collapsed": false,
    "pycharm": {
     "name": "#%%\n"
    }
   },
   "outputs": [],
   "source": [
    "from tkinter import *\n",
    "\n",
    "def msgshow():\n",
    "    label.config(text='i love python',bg='lightyellow',fg='blue')\n",
    "\n",
    "root=Tk()\n",
    "root.title()\n",
    "label=Label(root)\n",
    "\n",
    "gif=PhotoImage(file='2.gif')\n",
    "btn=Button(root,image=gif,command=msgshow,text='check me',compound=CENTER,cursor='star')\n",
    "label.pack()\n",
    "btn.pack()\n",
    "\n",
    "root.mainloop()"
   ]
  },
  {
   "cell_type": "code",
   "execution_count": 5,
   "metadata": {
    "collapsed": false,
    "pycharm": {
     "name": "#%%\n"
    }
   },
   "outputs": [],
   "source": [
    "#create a window\n"
   ]
  },
  {
   "cell_type": "code",
   "execution_count": null,
   "metadata": {
    "collapsed": false,
    "pycharm": {
     "name": "#%%\n"
    }
   },
   "outputs": [],
   "source": []
  }
 ],
 "metadata": {
  "kernelspec": {
   "display_name": "Python 3",
   "language": "python",
   "name": "python3"
  },
  "language_info": {
   "codemirror_mode": {
    "name": "ipython",
    "version": 3
   },
   "file_extension": ".py",
   "mimetype": "text/x-python",
   "name": "python",
   "nbconvert_exporter": "python",
   "pygments_lexer": "ipython3",
   "version": "3.9.7"
  }
 },
 "nbformat": 4,
 "nbformat_minor": 0
}