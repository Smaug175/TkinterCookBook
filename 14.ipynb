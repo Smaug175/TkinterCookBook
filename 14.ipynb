{
 "cells": [
  {
   "attachments": {},
   "cell_type": "markdown",
   "metadata": {},
   "source": [
    "#容器PanedWindow和Notebook"
   ]
  },
  {
   "cell_type": "code",
   "execution_count": 6,
   "metadata": {},
   "outputs": [
    {
     "name": "stdout",
     "output_type": "stream",
     "text": [
      "87880\n",
      "32\n"
     ]
    }
   ],
   "source": [
    "import os\n",
    "\n",
    "print(26*26*26*5)\n",
    "def clearConsole():\n",
    "    os.system('cls' if os.name == 'nt' else 'clear')\n",
    "#clearConsole()\n",
    "print(132%50)"
   ]
  },
  {
   "attachments": {},
   "cell_type": "markdown",
   "metadata": {},
   "source": [
    "#容器PanedWindow和Notebook\n",
    "PanedWindow可以翻译为面板，是一个Widget容器控件，可以在此容器内建立任意数量的子控件。不过一般是在此控件内建立二三个子控件，而控件是以水平方式或垂直方式排列。它的构造方法语法如下"
   ]
  },
  {
   "cell_type": "code",
   "execution_count": 9,
   "metadata": {},
   "outputs": [],
   "source": [
    "\n",
    "from tkinter import *\n",
    "\n",
    "pw=PanedWindow(orient=VERTICAL)\n",
    "pw.pack(fill=BOTH,expand=1)\n",
    "\n",
    "top=Label(pw,text='top pane')\n",
    "pw.add(top)\n",
    "\n",
    "bottom=Label(pw,text='bottom pane')\n",
    "pw.add(bottom)\n",
    "\n",
    "pw.mainloop()\n"
   ]
  },
  {
   "attachments": {},
   "cell_type": "markdown",
   "metadata": {},
   "source": [
    "PanedWindow是一个面板，最常的应用是将它分成二三份，然后可以将所设计的控件适度分配位置。"
   ]
  },
  {
   "cell_type": "code",
   "execution_count": 16,
   "metadata": {},
   "outputs": [],
   "source": [
    "from tkinter import *\n",
    "\n",
    "root=Tk()\n",
    "root.title('ch14_2')\n",
    "\n",
    "pw=PanedWindow(orient=HORIZONTAL)\n",
    "\n",
    "leftframe=LabelFrame(pw,text='Left Pane',padx=5,pady=5,width=200,height=200)   \n",
    "pw.add(leftframe)\n",
    "middleframe=LabelFrame(pw,text='Middle Pane',padx=5,pady=5,width=200,height=200)\n",
    "pw.add(middleframe)\n",
    "rightframe=LabelFrame(pw,text='Right Pane',padx=5,pady=5,width=200,height=200)\n",
    "pw.add(rightframe)\n",
    "\n",
    "pw.pack(fill=BOTH,expand=1,padx=10,pady=10)\n",
    "\n",
    "root.mainloop() \n",
    "\n"
   ]
  },
  {
   "attachments": {},
   "cell_type": "markdown",
   "metadata": {},
   "source": [
    "在tkinter.ttk模块中，若执行add（子对象，options），在options字段可以增加weight参数，weight代表更改窗口宽度时每个Pane更改的比例，如果插入三个子对象LabelFrame时weight都是1，代表放大或缩小窗口时，三个子对象是相同比例的。需留意在add( )方法内使用weight参数时需要导入thikter.ttk。"
   ]
  },
  {
   "cell_type": "code",
   "execution_count": 18,
   "metadata": {},
   "outputs": [],
   "source": [
    "from tkinter import *\n",
    "from tkinter.ttk import *\n",
    "\n",
    "\n",
    "root=Tk()\n",
    "root.title('ch14_2')\n",
    "\n",
    "pw=PanedWindow(orient=HORIZONTAL)\n",
    "\n",
    "leftframe=LabelFrame(pw,text='Left Pane',width=200,height=200)   \n",
    "pw.add(leftframe,weight=2)\n",
    "middleframe=LabelFrame(pw,text='Middle Pane',width=200,height=200)\n",
    "pw.add(middleframe,weight=2)\n",
    "rightframe=LabelFrame(pw,text='Right Pane',width=200,height=200)\n",
    "pw.add(rightframe,weight=1)\n",
    "\n",
    "pw.pack(fill=BOTH,expand=1,padx=10,pady=10)\n",
    "\n",
    "root.mainloop() \n",
    "\n"
   ]
  },
  {
   "cell_type": "code",
   "execution_count": 20,
   "metadata": {},
   "outputs": [],
   "source": [
    "from tkinter import *\n",
    "\n",
    "pw=PanedWindow(orient=HORIZONTAL)\n",
    "pw.pack(fill=BOTH,expand=1)\n",
    "\n",
    "entry=Entry(pw,bd=5)\n",
    "pw.add(entry)\n",
    "\n",
    "pwin=PanedWindow(pw,orient=VERTICAL)\n",
    "pw.add(pwin)\n",
    "\n",
    "scale=Scale(pwin,orient=HORIZONTAL)\n",
    "pwin.add(scale)\n",
    "\n",
    "pw.mainloop()"
   ]
  },
  {
   "attachments": {},
   "cell_type": "markdown",
   "metadata": {},
   "source": [
    "Notebook也是一个Widget容器控件，这个控件的特点是有许多选项卡，当选择不同选项卡时可以看到不同的子控件内容，也可以当作子窗口内容。"
   ]
  },
  {
   "cell_type": "code",
   "execution_count": 21,
   "metadata": {},
   "outputs": [],
   "source": [
    "from tkinter import *\n",
    "from tkinter.ttk import *\n",
    "\n",
    "root=Tk()\n",
    "root.title('ch14_3')\n",
    "root.geometry('300x200')\n",
    "\n",
    "notebook=Notebook(root)\n",
    "\n",
    "frame1=Frame()\n",
    "frame2=Frame()\n",
    "\n",
    "notebook.add(frame1,text='Frame1')\n",
    "notebook.add(frame2,text='Frame2')\n",
    "notebook.pack(fill=BOTH,expand=True,padx=10,pady=10)\n",
    "\n",
    "root.mainloop()"
   ]
  },
  {
   "cell_type": "code",
   "execution_count": 22,
   "metadata": {},
   "outputs": [],
   "source": [
    "from tkinter import *\n",
    "from tkinter.ttk import *\n",
    "from tkinter.messagebox import *\n",
    "\n",
    "def msg():\n",
    "    showinfo(title='Information',message='Hello World!')\n",
    "\n",
    "root=Tk()\n",
    "root.title('ch14_3')\n",
    "root.geometry('300x200')\n",
    "\n",
    "notebook=Notebook(root)\n",
    "\n",
    "frame1=Frame()\n",
    "frame2=Frame()\n",
    "\n",
    "label=Label(frame1,text='Hello World!')\n",
    "label.pack(padx=10,pady=10)\n",
    "btn=Button(frame2,text='Click Me',command=msg)\n",
    "btn.pack(padx=10,pady=10)\n",
    "\n",
    "\n",
    "notebook.add(frame1,text='Frame1')\n",
    "notebook.add(frame2,text='Frame2')\n",
    "notebook.pack(fill=BOTH,expand=True,padx=10,pady=10)\n",
    "\n",
    "root.mainloop()"
   ]
  }
 ],
 "metadata": {
  "kernelspec": {
   "display_name": "py39",
   "language": "python",
   "name": "python3"
  },
  "language_info": {
   "codemirror_mode": {
    "name": "ipython",
    "version": 3
   },
   "file_extension": ".py",
   "mimetype": "text/x-python",
   "name": "python",
   "nbconvert_exporter": "python",
   "pygments_lexer": "ipython3",
   "version": "3.10.9"
  },
  "orig_nbformat": 4
 },
 "nbformat": 4,
 "nbformat_minor": 2
}
