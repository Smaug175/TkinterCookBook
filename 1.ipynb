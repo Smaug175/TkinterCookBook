{
 "cells": [
  {
   "cell_type": "markdown",
   "id": "747c4500",
   "metadata": {
    "pycharm": {
     "name": "#%% md\n"
    }
   },
   "source": [
    "1.1 列出tkinter版本"
   ]
  },
  {
   "cell_type": "code",
   "execution_count": 2,
   "id": "81124c90",
   "metadata": {
    "pycharm": {
     "name": "#%%\n"
    }
   },
   "outputs": [],
   "source": [
    "from tkinter import *"
   ]
  },
  {
   "cell_type": "code",
   "execution_count": 3,
   "id": "7d312f4c",
   "metadata": {
    "pycharm": {
     "name": "#%%\n"
    }
   },
   "outputs": [
    {
     "name": "stdout",
     "output_type": "stream",
     "text": [
      "8.6\n"
     ]
    }
   ],
   "source": [
    "print(TkVersion)"
   ]
  },
  {
   "cell_type": "markdown",
   "source": [
    "1.2 建立窗口"
   ],
   "metadata": {
    "collapsed": false,
    "pycharm": {
     "name": "#%% md\n"
    }
   }
  },
  {
   "cell_type": "code",
   "execution_count": 11,
   "outputs": [],
   "source": [
    "root = Tk()\n",
    "root.mainloop()"
   ],
   "metadata": {
    "collapsed": false,
    "pycharm": {
     "name": "#%%\n"
    }
   }
  },
  {
   "cell_type": "markdown",
   "source": [
    "1.3 窗口属性设置"
   ],
   "metadata": {
    "collapsed": false,
    "pycharm": {
     "name": "#%% md\n"
    }
   }
  },
  {
   "cell_type": "code",
   "execution_count": 12,
   "outputs": [],
   "source": [
    "root = Tk()\n",
    "root.title('窗口')\n",
    "root.geometry('300x160')\n",
    "root.config(bg='yellow')\n",
    "root.mainloop()"
   ],
   "metadata": {
    "collapsed": false,
    "pycharm": {
     "name": "#%%\n"
    }
   }
  },
  {
   "cell_type": "markdown",
   "source": [
    "另一种方法定义背景颜色，修改窗口图标"
   ],
   "metadata": {
    "collapsed": false,
    "pycharm": {
     "name": "#%% md\n"
    }
   }
  },
  {
   "cell_type": "code",
   "execution_count": 13,
   "outputs": [],
   "source": [
    "root = Tk()\n",
    "root.config(bg='#00ff00')\n",
    "#root.iconbitmap('mystar.ico')\n",
    "root.mainloop()"
   ],
   "metadata": {
    "collapsed": false,
    "pycharm": {
     "name": "#%%\n"
    }
   }
  },
  {
   "cell_type": "markdown",
   "source": [
    "1.4 设置窗口位置"
   ],
   "metadata": {
    "collapsed": false,
    "pycharm": {
     "name": "#%% md\n"
    }
   }
  },
  {
   "cell_type": "code",
   "execution_count": 21,
   "outputs": [],
   "source": [
    "root=Tk()\n",
    "root.geometry('300x160+400+200')\n",
    "root.mainloop()"
   ],
   "metadata": {
    "collapsed": false,
    "pycharm": {
     "name": "#%%\n"
    }
   }
  },
  {
   "cell_type": "markdown",
   "source": [
    "重新设计geometry()"
   ],
   "metadata": {
    "collapsed": false,
    "pycharm": {
     "name": "#%% md\n"
    }
   }
  },
  {
   "cell_type": "code",
   "execution_count": 27,
   "outputs": [],
   "source": [
    "root = Tk()\n",
    "w=300\n",
    "h=160\n",
    "x=400\n",
    "y=200\n",
    "root.geometry('%dx%d+%d+%d'%(w,h,x,y))\n",
    "root.mainloop()"
   ],
   "metadata": {
    "collapsed": false,
    "pycharm": {
     "name": "#%%\n"
    }
   }
  },
  {
   "cell_type": "markdown",
   "source": [],
   "metadata": {
    "collapsed": false,
    "pycharm": {
     "name": "#%% md\n"
    }
   }
  },
  {
   "cell_type": "code",
   "execution_count": 28,
   "outputs": [],
   "source": [
    "root=Tk()\n",
    "screenWidth=root.winfo_screenwidth()#得到屏幕宽度\n",
    "screenHeight=root.winfo_screenheight()#得到屏幕高度\n",
    "w=300\n",
    "h=160\n",
    "x=(screenWidth-w)/2#确定左边的值\n",
    "y=(screenHeight-h)/2#确定上边的值\n",
    "root.geometry('%dx%d+%d+%d'%(w,h,x,y))\n",
    "root.mainloop()"
   ],
   "metadata": {
    "collapsed": false,
    "pycharm": {
     "name": "#%%\n"
    }
   }
  },
  {
   "cell_type": "markdown",
   "source": [
    "1.5 认识tkinter的widget"
   ],
   "metadata": {
    "collapsed": false,
    "pycharm": {
     "name": "#%% md\n"
    }
   }
  },
  {
   "cell_type": "code",
   "execution_count": 29,
   "outputs": [],
   "source": [
    "#导入加强的ttk\n",
    "from tkinter import ttk\n",
    "#使用下面的方法导入，则可以覆盖原先的tkinter组件\n",
    "from tkinter import *\n",
    "from tkinter.ttk import * #ttk拥有更好地外观"
   ],
   "metadata": {
    "collapsed": false,
    "pycharm": {
     "name": "#%%\n"
    }
   }
  },
  {
   "cell_type": "markdown",
   "source": [
    "1.6 widget的共同属性"
   ],
   "metadata": {
    "collapsed": false,
    "pycharm": {
     "name": "#%% md\n"
    }
   }
  },
  {
   "cell_type": "code",
   "execution_count": null,
   "outputs": [],
   "source": [
    "\"\"\"\n",
    "    Dimensions  :大小\n",
    "    Colors      :颜色\n",
    "    Fonts       :字形\n",
    "    Anchor      :锚定（参考点）\n",
    "    Relief styles :属性边框\n",
    "    Bitmaps     :显示位图\n",
    "    Cursors     :鼠标外形\n",
    "\"\"\""
   ],
   "metadata": {
    "collapsed": false,
    "pycharm": {
     "name": "#%%\n"
    }
   }
  },
  {
   "cell_type": "markdown",
   "source": [
    "1.7 widget的共用方法"
   ],
   "metadata": {
    "collapsed": false,
    "pycharm": {
     "name": "#%% md\n"
    }
   }
  },
  {
   "cell_type": "code",
   "execution_count": null,
   "outputs": [],
   "source": [
    "\"\"\"\n",
    "    Configuration\n",
    "        config(option=value)\n",
    "        cget(\"option\")\n",
    "        keys()\n",
    "    Event Processing\n",
    "        mainloop()\n",
    "        quit()\n",
    "        update()\n",
    "    Event callbacks\n",
    "        bind(event,callback):事件绑定\n",
    "        unbind(event):解除绑定\n",
    "    Alarm handlers\n",
    "        after(time,callback)\n",
    "        callback()\n",
    "\"\"\""
   ],
   "metadata": {
    "collapsed": false,
    "pycharm": {
     "name": "#%%\n"
    }
   }
  }
 ],
 "metadata": {
  "kernelspec": {
   "display_name": "Python 3 (ipykernel)",
   "language": "python",
   "name": "python3"
  },
  "language_info": {
   "codemirror_mode": {
    "name": "ipython",
    "version": 3
   },
   "file_extension": ".py",
   "mimetype": "text/x-python",
   "name": "python",
   "nbconvert_exporter": "python",
   "pygments_lexer": "ipython3",
   "version": "3.9.7"
  }
 },
 "nbformat": 4,
 "nbformat_minor": 5
}