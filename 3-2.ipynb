{
 "cells": [
  {
   "cell_type": "markdown",
   "source": [
    "第3章\n",
    "窗口控件配置管理员"
   ],
   "metadata": {
    "collapsed": false,
    "pycharm": {
     "name": "#%% md\n"
    }
   }
  },
  {
   "cell_type": "code",
   "execution_count": 1,
   "outputs": [],
   "source": [
    "#side参数可以垂直或水平配置控件，在进一步讲解前先看下列程序实例。\n",
    "from tkinter import *\n",
    "\n",
    "window=Tk()\n",
    "window.title('Title')\n",
    "\n",
    "lab1=Label(window,text='贵州民族大学',bg='lightyellow')\n",
    "lab2=Label(window,text='贵州大学',bg='lightgreen')\n",
    "lab3=Label(window,text='贵州艺术学院',bg='lightblue')\n",
    "\n",
    "lab1.pack()\n",
    "lab2.pack()\n",
    "lab3.pack()\n",
    "\n",
    "window.mainloop()"
   ],
   "metadata": {
    "collapsed": false,
    "pycharm": {
     "name": "#%%\n"
    }
   }
  },
  {
   "cell_type": "code",
   "execution_count": 3,
   "outputs": [],
   "source": [
    "window=Tk()\n",
    "window.title('Title')\n",
    "\n",
    "lab1=Label(window,text='贵州民族大学',bg='lightyellow',width=15)\n",
    "lab2=Label(window,text='贵州大学',bg='lightgreen',width=15)\n",
    "lab3=Label(window,text='贵州艺术学院',bg='lightblue',width=15)\n",
    "\n",
    "lab1.pack(side=BOTTOM)\n",
    "lab2.pack(side=BOTTOM)\n",
    "lab3.pack(side=BOTTOM)\n",
    "\n",
    "window.mainloop()"
   ],
   "metadata": {
    "collapsed": false,
    "pycharm": {
     "name": "#%%\n"
    }
   }
  },
  {
   "cell_type": "code",
   "execution_count": 4,
   "outputs": [],
   "source": [
    "window=Tk()\n",
    "window.title('Title')\n",
    "\n",
    "lab1=Label(window,text='贵州民族大学',bg='lightyellow',width=15)\n",
    "lab2=Label(window,text='贵州大学',bg='lightgreen',width=15)\n",
    "lab3=Label(window,text='贵州艺术学院',bg='lightblue',width=15)\n",
    "\n",
    "lab1.pack(side=LEFT)\n",
    "lab2.pack(side=LEFT)\n",
    "lab3.pack(side=LEFT)\n",
    "\n",
    "window.mainloop()"
   ],
   "metadata": {
    "collapsed": false,
    "pycharm": {
     "name": "#%%\n"
    }
   }
  },
  {
   "cell_type": "code",
   "execution_count": 5,
   "outputs": [],
   "source": [
    "window=Tk()\n",
    "window.title('Title')\n",
    "\n",
    "lab1=Label(window,text='贵州民族大学',bg='lightyellow',width=15)\n",
    "lab2=Label(window,text='贵州大学',bg='lightgreen',width=15)\n",
    "lab3=Label(window,text='贵州艺术学院',bg='lightblue',width=15)\n",
    "\n",
    "lab1.pack(side=TOP)\n",
    "lab2.pack(side=RIGHT)\n",
    "lab3.pack(side=LEFT)\n",
    "\n",
    "window.mainloop()"
   ],
   "metadata": {
    "collapsed": false,
    "pycharm": {
     "name": "#%%\n"
    }
   }
  },
  {
   "cell_type": "code",
   "execution_count": 7,
   "outputs": [],
   "source": [
    "#列出relief的所有属性。\n",
    "Relifs=('flat','groove','raised','ridge','solid','sunken')\n",
    "\n",
    "root = Tk()\n",
    "root.title()\n",
    "\n",
    "for Relif in Relifs:\n",
    "    Label(root,text=Relif,relief=Relif,\n",
    "          fg='blue',\n",
    "          font=('Times','20','bold')).pack(side=LEFT,padx=5)\n",
    "\n",
    "root.mainloop()"
   ],
   "metadata": {
    "collapsed": false,
    "pycharm": {
     "name": "#%%\n"
    }
   }
  },
  {
   "cell_type": "code",
   "execution_count": 8,
   "outputs": [],
   "source": [
    "#列出所有bitmaps位图\n",
    "bitMaps = ('error','hourglass','info','questhead','question',\n",
    "           'warning','gray12','gray25','gray50','gray75')\n",
    "\n",
    "root=Tk()\n",
    "root.title()\n",
    "\n",
    "for bitMap in bitMaps:\n",
    "    Label(root,bitmap=bitMap).pack(side=LEFT,padx=5)\n",
    "\n",
    "root.mainloop()"
   ],
   "metadata": {
    "collapsed": false,
    "pycharm": {
     "name": "#%%\n"
    }
   }
  },
  {
   "cell_type": "markdown",
   "source": [
    "使用pack方法时，可以使用padx/pady参数设定控件边界与容器（可想成窗口边界）的距离或是控件边界间的距离。在默认环境下窗口控件间的距离是1像素，如果希望有适度间距，可以设置参数padx/pady，代表水平间距/垂直间距，可以分别在组件间增加间距。"
   ],
   "metadata": {
    "collapsed": false,
    "pycharm": {
     "name": "#%% md\n"
    }
   }
  },
  {
   "cell_type": "code",
   "execution_count": 10,
   "outputs": [],
   "source": [
    "from tkinter import *\n",
    "\n",
    "window=Tk()\n",
    "window.title('Title')\n",
    "\n",
    "lab1=Label(window,text='贵州民族大学',bg='lightyellow')\n",
    "lab2=Label(window,text='贵州大学',bg='lightgreen')\n",
    "lab3=Label(window,text='贵州艺术学院',bg='lightblue')\n",
    "\n",
    "lab1.pack(fill=X)\n",
    "lab2.pack(pady=10)\n",
    "lab3.pack(fill=X)\n",
    "\n",
    "window.mainloop()"
   ],
   "metadata": {
    "collapsed": false,
    "pycharm": {
     "name": "#%%\n"
    }
   }
  },
  {
   "cell_type": "code",
   "execution_count": 11,
   "outputs": [],
   "source": [
    "window=Tk()\n",
    "window.title('Title')\n",
    "\n",
    "lab1=Label(window,text='贵州民族大学',bg='lightyellow')\n",
    "lab2=Label(window,text='贵州大学',bg='lightgreen')\n",
    "lab3=Label(window,text='贵州艺术学院',bg='lightblue')\n",
    "\n",
    "lab1.pack(fill=X,pady=10)\n",
    "lab2.pack(pady=10)\n",
    "lab3.pack(fill=X)\n",
    "\n",
    "window.mainloop()"
   ],
   "metadata": {
    "collapsed": false,
    "pycharm": {
     "name": "#%%\n"
    }
   }
  },
  {
   "cell_type": "code",
   "execution_count": 12,
   "outputs": [],
   "source": [
    "window=Tk()\n",
    "window.title('Title')\n",
    "\n",
    "lab1=Label(window,text='贵州民族大学',bg='lightyellow',width=15)\n",
    "lab2=Label(window,text='贵州大学',bg='lightgreen',width=15)\n",
    "lab3=Label(window,text='贵州艺术学院',bg='lightblue',width=15)\n",
    "\n",
    "lab1.pack(padx=50)\n",
    "lab2.pack(padx=50)\n",
    "lab3.pack(padx=50)\n",
    "\n",
    "window.mainloop()"
   ],
   "metadata": {
    "collapsed": false,
    "pycharm": {
     "name": "#%%\n"
    }
   }
  },
  {
   "cell_type": "code",
   "execution_count": 13,
   "outputs": [],
   "source": [
    "window=Tk()\n",
    "window.title('Title')\n",
    "\n",
    "lab1=Label(window,text='贵州民族大学',bg='lightyellow',width=15)\n",
    "lab2=Label(window,text='贵州大学',bg='lightgreen',width=15)\n",
    "lab3=Label(window,text='贵州艺术学院',bg='lightblue',width=15)\n",
    "\n",
    "lab1.pack(side=LEFT)\n",
    "lab2.pack(side=LEFT,padx=10)\n",
    "lab3.pack(side=LEFT)\n",
    "\n",
    "window.mainloop()"
   ],
   "metadata": {
    "collapsed": false,
    "pycharm": {
     "name": "#%%\n"
    }
   }
  },
  {
   "cell_type": "markdown",
   "source": [
    "ipadx参数可以控制标签文字与标签容器的x轴间距，ipady参数可以控制标签文字与标签容器的y轴间距。"
   ],
   "metadata": {
    "collapsed": false,
    "pycharm": {
     "name": "#%% md\n"
    }
   }
  },
  {
   "cell_type": "code",
   "execution_count": 18,
   "outputs": [],
   "source": [
    "from tkinter import *\n",
    "\n",
    "window=Tk()\n",
    "window.title('Title')\n",
    "\n",
    "lab1=Label(window,text='贵州民族大学',bg='lightyellow')\n",
    "lab2=Label(window,text='贵州大学',bg='lightgreen')\n",
    "lab3=Label(window,text='贵州艺术学院',bg='lightblue')\n",
    "\n",
    "lab1.pack()\n",
    "lab2.pack(ipadx=10)#等于在Label里面更改\n",
    "lab3.pack()\n",
    "\n",
    "window.mainloop()"
   ],
   "metadata": {
    "collapsed": false,
    "pycharm": {
     "name": "#%%\n"
    }
   }
  },
  {
   "cell_type": "code",
   "execution_count": 19,
   "outputs": [],
   "source": [
    "from tkinter import *\n",
    "\n",
    "window=Tk()\n",
    "window.title('Title')\n",
    "\n",
    "lab1=Label(window,text='贵州民族大学',bg='lightyellow')\n",
    "lab2=Label(window,text='贵州大学',bg='lightgreen')\n",
    "lab3=Label(window,text='贵州艺术学院',bg='lightblue')\n",
    "\n",
    "lab1.pack()\n",
    "lab2.pack(ipadx=10)#等于在Label里面更改\n",
    "lab3.pack(ipady=10)#等于在Label里面更改\n",
    "\n",
    "window.mainloop()"
   ],
   "metadata": {
    "collapsed": false,
    "pycharm": {
     "name": "#%%\n"
    }
   }
  },
  {
   "cell_type": "markdown",
   "source": [
    "这个参数可以设定Widget控件在窗口中的位置，它的概念与2-4节中类似，但是本节中是指控件内容在控件区域(窗口)的位置设置（实际的例子中是指标签文字在标签区域的位置）。"
   ],
   "metadata": {
    "collapsed": false,
    "pycharm": {
     "name": "#%% md\n"
    }
   }
  },
  {
   "cell_type": "code",
   "execution_count": 20,
   "outputs": [],
   "source": [
    "from tkinter import *\n",
    "\n",
    "root=Tk()\n",
    "\n",
    "root.geometry('300x180')\n",
    "ok=Label(root,text='OK',\n",
    "         font=('Times','20','bold'),\n",
    "         fg='white',bg='blue')\n",
    "ok.pack(anchor=S,side=RIGHT,\n",
    "        padx=10,pady=10)\n",
    "\n",
    "root.mainloop()"
   ],
   "metadata": {
    "collapsed": false,
    "pycharm": {
     "name": "#%%\n"
    }
   }
  },
  {
   "cell_type": "code",
   "execution_count": 21,
   "outputs": [],
   "source": [
    "from tkinter import *\n",
    "\n",
    "root=Tk()\n",
    "\n",
    "root.geometry('300x180')\n",
    "ok=Label(root,text='OK',\n",
    "         font=('Times','20','bold'),\n",
    "         fg='white',bg='blue')\n",
    "ok.pack(anchor=S,side=RIGHT,\n",
    "        padx=10,pady=10)\n",
    "no=Label(root,text='NO',\n",
    "         font=('Times','20','bold'),\n",
    "         fg='white',bg='red')\n",
    "no.pack(anchor=S,side=RIGHT,\n",
    "        pady=10)\n",
    "\n",
    "root.mainloop()"
   ],
   "metadata": {
    "collapsed": false,
    "pycharm": {
     "name": "#%%\n"
    }
   }
  },
  {
   "cell_type": "markdown",
   "source": [
    "fill参数的主要功能是告诉pack管理程序，设置控件填满所分配容器区间的方式，如果是fill=X表示控件可以填满所分配空间的X轴不留白，如果是fill=Y表示控件可以填满所分配空间的Y轴不留白，如果是fill=BOTH表示控件可以填满所分配空间的X轴和Y轴。fill默认值是NONE，表示保持原大小。"
   ],
   "metadata": {
    "collapsed": false,
    "pycharm": {
     "name": "#%% md\n"
    }
   }
  },
  {
   "cell_type": "code",
   "execution_count": 7,
   "outputs": [],
   "source": [
    "from tkinter import *\n",
    "\n",
    "window=Tk()\n",
    "window.title('Title')\n",
    "\n",
    "lab1=Label(window,text='贵州民族大学',bg='lightyellow')\n",
    "lab2=Label(window,text='贵州大学',bg='lightgreen')\n",
    "lab3=Label(window,text='贵州艺术学院',bg='lightblue')\n",
    "\n",
    "lab1.pack(side=LEFT,fill=Y)\n",
    "lab2.pack(fill=X)\n",
    "lab3.pack(fill=BOTH,expand=TRUE)#两个维度都满足,才能使得缩放不变样\n",
    "\n",
    "window.mainloop()"
   ],
   "metadata": {
    "collapsed": false,
    "pycharm": {
     "name": "#%%\n"
    }
   }
  },
  {
   "cell_type": "code",
   "execution_count": 9,
   "outputs": [],
   "source": [
    "from tkinter import *\n",
    "\n",
    "root=Tk()\n",
    "root.geometry('300x200')\n",
    "\n",
    "Label(root,text='misssisssippi',bg='red',fg='white',\n",
    "      font='Times 24 bold').pack(fill=X)\n",
    "Label(root,text='kenturcky',bg='green',fg='white',\n",
    "      font='Times 24 bold').pack(fill=BOTH,expand=TRUE)\n",
    "Label(root,text='misssisssippi',bg='blue',fg='white',\n",
    "      font='Times 24 bold').pack(fill=X)\n",
    "\n",
    "root.mainloop()"
   ],
   "metadata": {
    "collapsed": false,
    "pycharm": {
     "name": "#%%\n"
    }
   }
  },
  {
   "cell_type": "code",
   "execution_count": 13,
   "outputs": [
    {
     "name": "stdout",
     "output_type": "stream",
     "text": [
      "after exuce: [<tkinter.Label object .!label>, <tkinter.Label object .!label2>, <tkinter.Label object .!label3>]\n"
     ]
    }
   ],
   "source": [
    "from tkinter import *\n",
    "\n",
    "root=Tk()\n",
    "#root.geometry('300x200')\n",
    "\n",
    "Label(root,text='misssisssippi',bg='red',fg='white',\n",
    "      font='Times 24 bold').pack(side=LEFT,fill=X)\n",
    "Label(root,text='kenturcky',bg='green',fg='white',\n",
    "      font='Times 24 bold').pack(side=LEFT,fill=BOTH,expand=TRUE)\n",
    "Label(root,text='misssisssippi',bg='blue',fg='white',\n",
    "      font='Times 24 bold').pack(side=LEFT,fill=X)\n",
    "print('after exuce:',root.pack_slaves())\n",
    "\n",
    "root.mainloop()"
   ],
   "metadata": {
    "collapsed": false,
    "pycharm": {
     "name": "#%%\n"
    }
   }
  },
  {
   "cell_type": "code",
   "execution_count": 12,
   "outputs": [
    {
     "name": "stdout",
     "output_type": "stream",
     "text": [
      "before exuce: []\n",
      "after exuce: [<tkinter.Label object .!label>, <tkinter.Label object .!label2>]\n"
     ]
    }
   ],
   "source": [
    "#pack其实在Python tkinter中是一个类别\n",
    "from tkinter import *\n",
    "\n",
    "root=Tk()\n",
    "\n",
    "root.geometry('300x180')\n",
    "print('before exuce:',root.pack_slaves())\n",
    "ok=Label(root,text='OK',\n",
    "         font=('Times','20','bold'),\n",
    "         fg='white',bg='blue')\n",
    "ok.pack(anchor=S,side=RIGHT,\n",
    "        padx=10,pady=10)\n",
    "no=Label(root,text='NO',\n",
    "         font=('Times','20','bold'),\n",
    "         fg='white',bg='red')\n",
    "no.pack(anchor=S,side=RIGHT,\n",
    "        pady=10)\n",
    "print('after exuce:',root.pack_slaves())\n",
    "\n",
    "root.mainloop()"
   ],
   "metadata": {
    "collapsed": false,
    "pycharm": {
     "name": "#%%\n"
    }
   }
  }
 ],
 "metadata": {
  "kernelspec": {
   "display_name": "Python 3",
   "language": "python",
   "name": "python3"
  },
  "language_info": {
   "codemirror_mode": {
    "name": "ipython",
    "version": 2
   },
   "file_extension": ".py",
   "mimetype": "text/x-python",
   "name": "python",
   "nbconvert_exporter": "python",
   "pygments_lexer": "ipython2",
   "version": "2.7.6"
  }
 },
 "nbformat": 4,
 "nbformat_minor": 0
}