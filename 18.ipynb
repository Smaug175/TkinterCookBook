{
 "cells": [
  {
   "cell_type": "code",
   "execution_count": 19,
   "metadata": {},
   "outputs": [
    {
     "name": "stdout",
     "output_type": "stream",
     "text": [
      "{'width': 200, 'minwidth': 20, 'stretch': 1, 'anchor': 'center', 'id': 'citys'}\n"
     ]
    }
   ],
   "source": [
    "from tkinter import *   \n",
    "from tkinter.ttk import *\n",
    "\n",
    "root = Tk()\n",
    "root.title(\"Tkinter 18_1\")\n",
    "\n",
    "list1=(\"纽约\", \"8,405,837\")\n",
    "list2=(\"芝加哥\", \"2,695,598\")\n",
    "list3=(\"旧金山\", \"837,442\")\n",
    "\n",
    "\n",
    "tree =Treeview(root,columns=('citys','populations'))\n",
    "\n",
    "tree.heading('#0', text='Items')\n",
    "tree.heading('#1', text='City')\n",
    "tree.heading('#2', text='Population')\n",
    "\n",
    "\n",
    "tree.column('citys',anchor=CENTER)\n",
    "\n",
    "tree.tag_configure('evenColor',background='lightblue')\n",
    "\n",
    "\n",
    "tree.insert(\"\",index=END,text=\"Item 1\",values=list1)\n",
    "tree.insert(\"\",index=END,text=\"Item 2\",values=list2,tags=(\"evenColor\"))\n",
    "tree.insert(\"\",index=END,text=\"Item 3\",values=list3)\n",
    "\n",
    "tree.pack()\n",
    "\n",
    "cityDict=tree.column('citys')\n",
    "print(cityDict)\n",
    "\n",
    "root.mainloop()"
   ]
  },
  {
   "cell_type": "code",
   "execution_count": 20,
   "metadata": {},
   "outputs": [],
   "source": [
    "from tkinter import *\n",
    "from tkinter.ttk import *\n",
    "\n",
    "root = Tk()\n",
    "root.title(\"Tkinter 18_2\")\n",
    "\n",
    "asia={'中国':'北京','日本':'东京','韩国':'首尔','印度':'新德里','泰国':'曼谷'}\n",
    "euro={'英国':'伦敦','法国':'巴黎','德国':'柏林','意大利':'罗马','西班牙':'马德里'}\n",
    "\n",
    "tree=Treeview(root,columns=('capital'))\n",
    "\n",
    "tree.heading('#0',text='国家')\n",
    "tree.heading('#1',text='首都')\n",
    "\n",
    "idAsia=tree.insert(\"\",index=END,text=\"亚洲\",)\n",
    "idEuro=tree.insert(\"\",index=END,text=\"欧洲\",)\n",
    "for country in asia.keys():\n",
    "    tree.insert(idAsia,index=END,text=country,values=(asia[country]))\n",
    "for country in euro.keys():\n",
    "    tree.insert(idEuro,index=END,text=country,values=(euro[country]))\n",
    "    \n",
    "tree.pack()\n",
    "\n",
    "root.mainloop()"
   ]
  },
  {
   "cell_type": "code",
   "execution_count": null,
   "metadata": {},
   "outputs": [],
   "source": []
  }
 ],
 "metadata": {
  "kernelspec": {
   "display_name": "Python 3",
   "language": "python",
   "name": "python3"
  },
  "language_info": {
   "codemirror_mode": {
    "name": "ipython",
    "version": 3
   },
   "file_extension": ".py",
   "mimetype": "text/x-python",
   "name": "python",
   "nbconvert_exporter": "python",
   "pygments_lexer": "ipython3",
   "version": "3.9.7"
  },
  "orig_nbformat": 4
 },
 "nbformat": 4,
 "nbformat_minor": 2
}
