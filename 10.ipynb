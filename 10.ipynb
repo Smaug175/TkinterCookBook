{
 "cells": [
  {
   "attachments": {},
   "cell_type": "markdown",
   "metadata": {},
   "source": [
    "Widget控件中的Message主要是可以显示短消息，它的功能与Label类似，但是使用起来更灵活，可自动分行。"
   ]
  },
  {
   "cell_type": "code",
   "execution_count": 2,
   "metadata": {},
   "outputs": [],
   "source": [
    "from   tkinter import *\n",
    "\n",
    "root = Tk()\n",
    "root.title(\"ch10_1\")\n",
    "\n",
    "mytext=\"The term GUI stands for Graphical User Interface.\"\n",
    "msg=Message(root,text=mytext,\n",
    "            bg='yellow',font=('times',16,'italic'))\n",
    "msg.pack(padx=10,pady=10)\n",
    "\n",
    "root.mainloop()"
   ]
  },
  {
   "cell_type": "code",
   "execution_count": 3,
   "metadata": {},
   "outputs": [],
   "source": [
    "from   tkinter import *\n",
    "\n",
    "root = Tk()\n",
    "root.title(\"ch10_2\")\n",
    "\n",
    "var=StringVar()\n",
    "msg=Message(root,textvariable=var,relief=RAISED,\n",
    "            bg='yellow',font=('times',16,'italic'))\n",
    "var.set(\"The term GUI stands for Graphical User Interface.\")\n",
    "msg.pack(padx=10,pady=10)\n",
    "\n",
    "root.mainloop()"
   ]
  },
  {
   "cell_type": "code",
   "execution_count": 5,
   "metadata": {},
   "outputs": [],
   "source": [
    "from   tkinter import *\n",
    "\n",
    "root = Tk()\n",
    "root.title(\"ch10_3\")\n",
    "\n",
    "var=StringVar()\n",
    "msg=Message(root,textvariable=var,relief=RAISED,\n",
    "            bg='yellow',font=('times',16,'italic'))\n",
    "var.set(\"The term GUI stands for Graphical User Interface.\")\n",
    "msg.pack(padx=10,pady=10)\n",
    "\n",
    "msg.config(bg='blue',fg='white',font=('times',16,'bold'))\n",
    "\n",
    "root.mainloop()"
   ]
  },
  {
   "attachments": {},
   "cell_type": "markdown",
   "metadata": {},
   "source": [
    "Python中的tkinter模块内有Messagebox模块，提供了8个对话框，这些对话框可以应用在不同场合，本节将做说明。"
   ]
  },
  {
   "cell_type": "code",
   "execution_count": 6,
   "metadata": {},
   "outputs": [],
   "source": [
    "from tkinter import *\n",
    "from tkinter import messagebox\n",
    "\n",
    "def msgShow():\n",
    "    messagebox.showinfo(\"Message\",\"Python GUI\")\n",
    "    \n",
    "root = Tk()\n",
    "root.title(\"ch10_4\")\n",
    "root.geometry(\"300x160\")\n",
    "\n",
    "Button(root,text=\"Show Message\",command=msgShow).pack(pady=20)\n",
    "\n",
    "root.mainloop()"
   ]
  },
  {
   "cell_type": "code",
   "execution_count": 7,
   "metadata": {},
   "outputs": [
    {
     "name": "stdout",
     "output_type": "stream",
     "text": [
      "Message, True\n",
      "Message, False\n",
      "Message, True\n",
      "Message, False\n",
      "Message, None\n"
     ]
    }
   ],
   "source": [
    "from tkinter import *\n",
    "from tkinter import messagebox\n",
    "\n",
    "def msg1Show():\n",
    "    ret=messagebox.askretrycancel(\"text1\",\"try again?\")\n",
    "    print(\"Message,\",ret)\n",
    "    \n",
    "def msg2Show():\n",
    "    ret=messagebox.askyesnocancel(\"text2\",\"yes or no or cancel?\")\n",
    "    print(\"Message,\",ret)\n",
    "\n",
    "root = Tk()\n",
    "root.title(\"ch10_5\")\n",
    "\n",
    "Button(root,text=\"RetryCancel\",command=msg1Show).pack(pady=20)\n",
    "Button(root,text=\"YesNoCancel\",command=msg2Show).pack(pady=20)\n",
    "\n",
    "root.mainloop()"
   ]
  },
  {
   "cell_type": "code",
   "execution_count": null,
   "metadata": {},
   "outputs": [],
   "source": []
  }
 ],
 "metadata": {
  "kernelspec": {
   "display_name": "py39",
   "language": "python",
   "name": "python3"
  },
  "language_info": {
   "codemirror_mode": {
    "name": "ipython",
    "version": 3
   },
   "file_extension": ".py",
   "mimetype": "text/x-python",
   "name": "python",
   "nbconvert_exporter": "python",
   "pygments_lexer": "ipython3",
   "version": "3.9.16"
  },
  "orig_nbformat": 4
 },
 "nbformat": 4,
 "nbformat_minor": 2
}
