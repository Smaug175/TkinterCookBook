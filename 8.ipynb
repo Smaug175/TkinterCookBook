{
 "cells": [
  {
   "cell_type": "code",
   "execution_count": 1,
   "metadata": {},
   "outputs": [],
   "source": [
    "from tkinter import *\n",
    "\n",
    "root = Tk()\n",
    "root.title(\"ch8_1\")\n",
    "\n",
    "for fm in ['red','green','blue']:\n",
    "    Frame(root,height=20,width=100,bg=fm).pack()\n",
    "    \n",
    "root.mainloop()\n"
   ]
  },
  {
   "cell_type": "code",
   "execution_count": 3,
   "metadata": {},
   "outputs": [],
   "source": [
    "from tkinter import *\n",
    "\n",
    "root = Tk()\n",
    "root.title(\"ch8_2\")\n",
    "\n",
    "fms={'red':'cross','green':'boat','blue':'clock'}\n",
    "for fmColor in fms:\n",
    "    Frame(root,height=20,width=100,bg=fmColor,cursor=fms[fmColor]).pack(\n",
    "        fill=BOTH,expand=YES,side=LEFT)\n",
    "    Button(root,text=fms[fmColor]).pack(fill=BOTH,expand=YES,side=LEFT)\n",
    "\n",
    "root.mainloop()"
   ]
  },
  {
   "cell_type": "code",
   "execution_count": 4,
   "metadata": {},
   "outputs": [],
   "source": [
    "from tkinter import *\n",
    "\n",
    "root = Tk()\n",
    "root.title(\"ch8_3\")\n",
    "\n",
    "framup = Frame(root,bg='lightyellow')\n",
    "framup.pack()\n",
    "btnred=Button(framup,text=\"Red\",bg=\"red\")\n",
    "btnred.pack(side=LEFT,padx=10,pady=10)\n",
    "btngreen=Button(framup,text=\"Green\",bg=\"green\")\n",
    "btngreen.pack(side=LEFT,padx=10,pady=10)\n",
    "btnblue=Button(framup,text=\"Blue\",bg=\"blue\")\n",
    "btnblue.pack(side=LEFT,padx=10,pady=10)\n",
    "\n",
    "framlow=Frame(root,bg='lightblue')\n",
    "framlow.pack()\n",
    "btnpurple=Button(framlow,text=\"Purple\",bg=\"purple\")\n",
    "btnpurple.pack(side=LEFT,padx=10,pady=10)\n",
    "\n",
    "root.mainloop()\n"
   ]
  },
  {
   "cell_type": "code",
   "execution_count": 6,
   "metadata": {},
   "outputs": [],
   "source": [
    "from tkinter import *\n",
    "from tkinter.ttk import *\n",
    "\n",
    "root = Tk()\n",
    "root.title(\"ch8_4\")\n",
    "\n",
    "fm1=Frame(root,width=150,height=80,relief=GROOVE,borderwidth=5)\n",
    "fm1.pack(side=LEFT,padx=10,pady=10)\n",
    "\n",
    "fm2=Frame(root,width=150,height=80,relief=RAISED,borderwidth=5)\n",
    "fm2.pack(side=LEFT,padx=10,pady=10)\n",
    "\n",
    "fm3=Frame(root,width=150,height=80,relief=RIDGE,borderwidth=5)\n",
    "fm3.pack(side=LEFT,padx=10,pady=10)\n",
    "\n",
    "root.mainloop()"
   ]
  },
  {
   "cell_type": "code",
   "execution_count": null,
   "metadata": {},
   "outputs": [],
   "source": []
  }
 ],
 "metadata": {
  "kernelspec": {
   "display_name": "Python 3",
   "language": "python",
   "name": "python3"
  },
  "language_info": {
   "codemirror_mode": {
    "name": "ipython",
    "version": 3
   },
   "file_extension": ".py",
   "mimetype": "text/x-python",
   "name": "python",
   "nbconvert_exporter": "python",
   "pygments_lexer": "ipython3",
   "version": "3.10.9"
  },
  "orig_nbformat": 4
 },
 "nbformat": 4,
 "nbformat_minor": 2
}
