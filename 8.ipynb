{
 "cells": [
  {
   "cell_type": "code",
   "execution_count": 6,
   "metadata": {},
   "outputs": [],
   "source": [
    "from tkinter import *\n",
    "\n",
    "root=Tk()\n",
    "root.title(\"ch8_1\")\n",
    "\n",
    "for fm in ['red','green','blue']:\n",
    "    Frame(root,height=100,width=200,bg=fm).pack(expand=YES,fill=BOTH)#expand是否填滿,fill填滿方式\n",
    "\n",
    "root.mainloop()"
   ]
  },
  {
   "cell_type": "code",
   "execution_count": 7,
   "metadata": {},
   "outputs": [],
   "source": [
    "from tkinter import *\n",
    "\n",
    "root=Tk()\n",
    "root.title(\"ch8_2\")\n",
    "\n",
    "fms={'red':'cross','green':'boat','blue':'clock'}#改变鼠标标签的种类\n",
    "for fmColor in fms:\n",
    "    Frame(root,height=100,width=200,bg=fmColor,cursor=fms[fmColor]).pack(side=LEFT,expand=YES,fill=BOTH)#expand是否填滿,fill填滿方式\n",
    "\n",
    "root.mainloop()"
   ]
  },
  {
   "cell_type": "code",
   "execution_count": 8,
   "metadata": {},
   "outputs": [],
   "source": [
    "from tkinter import *\n",
    "\n",
    "root=Tk()\n",
    "root.title(\"ch8_3\")\n",
    "\n",
    "frameupper=Frame(root,bg='lightyellow')\n",
    "frameupper.pack()\n",
    "btnred=Button(frameupper,text=\"Red\",fg=\"red\")\n",
    "btnred.pack(side=LEFT,padx=10,pady=10)\n",
    "btngreen=Button(frameupper,text=\"Green\",fg=\"green\")\n",
    "btngreen.pack(side=LEFT,padx=10,pady=10)\n",
    "btnblue=Button(frameupper,text=\"Blue\",fg=\"blue\")\n",
    "btnblue.pack(side=LEFT,padx=10,pady=10)\n",
    "\n",
    "framelower=Frame(root,bg='lightblue')\n",
    "framelower.pack()\n",
    "btnPurple=Button(framelower,text=\"Purple\",fg=\"purple\")\n",
    "btnPurple.pack(side=LEFT,padx=10,pady=10)\n",
    "\n",
    "root.mainloop()"
   ]
  },
  {
   "cell_type": "code",
   "execution_count": 10,
   "metadata": {},
   "outputs": [],
   "source": [
    "from tkinter import *\n",
    "from tkinter.ttk import *\n",
    "\n",
    "root=Tk()   \n",
    "root.title(\"ch8_4\")\n",
    "\n",
    "fm1=Frame(width=150,height=80,relief=GROOVE,borderwidth=5)\n",
    "fm1.pack(side=LEFT,expand=YES,fill=BOTH)\n",
    "\n",
    "fm2=Frame(width=150,height=80,relief=RAISED,borderwidth=5)\n",
    "fm2.pack(side=RIGHT,expand=YES,fill=BOTH)\n",
    "\n",
    "fm3=Frame(width=150,height=80,relief=RIDGE,borderwidth=5)\n",
    "fm3.pack(side=TOP,expand=YES,fill=BOTH)\n",
    "\n",
    "root.mainloop()"
   ]
  },
  {
   "cell_type": "code",
   "execution_count": 13,
   "metadata": {},
   "outputs": [],
   "source": [
    "from tkinter import *\n",
    "from tkinter.ttk import *\n",
    "\n",
    "root=Tk()\n",
    "root.title(\"ch8_5\")\n",
    "\n",
    "fm=Frame(width=150,height=80,relief=RAISED,borderwidth=5)\n",
    "\n",
    "lab=Label(fm,text=\"Choose the language\")\n",
    "lab.pack()\n",
    "\n",
    "python=Checkbutton(fm,text=\"Python\")\n",
    "python.pack(anchor=W)\n",
    "java=Checkbutton(fm,text=\"Java\")\n",
    "java.pack(anchor=W)\n",
    "csharp=Checkbutton(fm,text=\"C#\")\n",
    "csharp.pack(anchor=W)\n",
    "\n",
    "fm.pack(side=LEFT,expand=YES,fill=BOTH)\n",
    "\n",
    "root.mainloop()\n"
   ]
  },
  {
   "attachments": {},
   "cell_type": "markdown",
   "metadata": {},
   "source": [
    "下述程序中需使用tkinter.ttk模块内的Frame作为支持才可正常显示relief外框，同时留意第8行中的alt参数主要是此机制内对于relief支持的参数。"
   ]
  },
  {
   "cell_type": "code",
   "execution_count": 2,
   "metadata": {},
   "outputs": [],
   "source": [
    "from tkinter import *\n",
    "from tkinter.ttk import *\n",
    "\n",
    "root=Tk()\n",
    "root.title(\"ch8_6\")\n",
    "\n",
    "style=Style()\n",
    "style.theme_use(\"alt\")#alt,clam,default,classic\n",
    "\n",
    "fm1=Frame(root,width=150,height=80,relief='flat',borderwidth=5)\n",
    "fm1.grid(row=0,column=0,padx=10,pady=10)\n",
    "\n",
    "fm2=Frame(root,width=150,height=80,relief='groove',borderwidth=5)\n",
    "fm2.grid(row=0,column=1,padx=10,pady=10)\n",
    "\n",
    "fm3=Frame(root,width=150,height=80,relief='raised',borderwidth=5)\n",
    "fm3.grid(row=1,column=0,padx=10,pady=10)\n",
    "\n",
    "fm4=Frame(root,width=150,height=80,relief='ridge',borderwidth=5)\n",
    "fm4.grid(row=1,column=1,padx=10,pady=10)\n",
    "\n",
    "fm5=Frame(root,width=150,height=80,relief='solid',borderwidth=5)\n",
    "fm5.grid(row=2,column=0,padx=10,pady=10)\n",
    "\n",
    "fm6=Frame(root,width=150,height=80,relief='sunken',borderwidth=5)\n",
    "fm6.grid(row=2,column=1,padx=10,pady=10)\n",
    "\n",
    "root.mainloop()"
   ]
  },
  {
   "cell_type": "code",
   "execution_count": null,
   "metadata": {},
   "outputs": [],
   "source": [
    "#new5/9"
   ]
  }
 ],
 "metadata": {
  "kernelspec": {
   "display_name": "py39",
   "language": "python",
   "name": "python3"
  },
  "language_info": {
   "codemirror_mode": {
    "name": "ipython",
    "version": 3
   },
   "file_extension": ".py",
   "mimetype": "text/x-python",
   "name": "python",
   "nbconvert_exporter": "python",
   "pygments_lexer": "ipython3",
   "version": "3.9.16"
  },
  "orig_nbformat": 4
 },
 "nbformat": 4,
 "nbformat_minor": 2
}
