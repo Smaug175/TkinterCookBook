{
 "cells": [
  {
   "cell_type": "code",
   "execution_count": 1,
   "metadata": {},
   "outputs": [],
   "source": [
    "from tkinter import *\n",
    "\n",
    "root=Tk()\n",
    "root.title(\"Tkinter 13\")\n",
    "root.geometry(\"300x200\")\n",
    "\n",
    "var=StringVar()\n",
    "optmenu=OptionMenu(root,var,\"one\",\"two\",\"three\",\"four\")\n",
    "optmenu.pack()\n",
    "\n",
    "root.mainloop()"
   ]
  },
  {
   "cell_type": "code",
   "execution_count": 3,
   "metadata": {},
   "outputs": [],
   "source": [
    "from tkinter import *\n",
    "\n",
    "menu=(\"one\",\"two\",\"three\",\"four\")\n",
    "\n",
    "root=Tk()\n",
    "root.title(\"Tkinter 13\")\n",
    "root.geometry(\"300x200\")\n",
    "\n",
    "var=StringVar(root)#root is the parent\n",
    "opmenu=OptionMenu(root,var,*menu)\n",
    "opmenu.pack()\n",
    "\n",
    "root.mainloop()\n"
   ]
  },
  {
   "cell_type": "code",
   "execution_count": 10,
   "metadata": {},
   "outputs": [],
   "source": [
    "from tkinter import *\n",
    "\n",
    "menu=(\"one\",\"two\",\"three\",\"four\")\n",
    "\n",
    "root=Tk()\n",
    "root.title(\"Tkinter 13\")\n",
    "root.geometry(\"300x200\")\n",
    "\n",
    "var=StringVar(root)#root is the parent\n",
    "opmenu=OptionMenu(root,var,*menu)\n",
    "opmenu.pack()\n",
    "\n",
    "root.mainloop()\n"
   ]
  },
  {
   "cell_type": "code",
   "execution_count": 22,
   "metadata": {},
   "outputs": [
    {
     "name": "stdout",
     "output_type": "stream",
     "text": [
      "26\n",
      "6760\n"
     ]
    }
   ],
   "source": [
    "names=[]\n",
    "s='tuvwxyzabcdefghigklmnopqrs'\n",
    "print(len(s))\n",
    "for i_ in s:\n",
    "    for j_ in s:\n",
    "        names.append(i_+j_)\n",
    "\n",
    "print(len(names)*10)\n",
    "\n",
    "for i in names:\n",
    "    #print(len(names))\n",
    "    #print(len(names)-names.index(i))\n",
    "    pass\n",
    "\n",
    "\n"
   ]
  },
  {
   "cell_type": "code",
   "execution_count": 11,
   "metadata": {},
   "outputs": [],
   "source": [
    "from tkinter import *\n",
    "\n",
    "menu=(\"one\",\"two\",\"three\",\"four\")\n",
    "\n",
    "root=Tk()\n",
    "root.title(\"Tkinter 13\")\n",
    "root.geometry(\"300x200\")\n",
    "\n",
    "var=StringVar(root)#root is the parent\n",
    "var.set(\"one\")\n",
    "opmenu=OptionMenu(root,var,*menu)\n",
    "opmenu.pack()\n",
    "\n",
    "root.mainloop()\n"
   ]
  },
  {
   "attachments": {},
   "cell_type": "markdown",
   "metadata": {},
   "source": [
    "上述程序成功地设定了默认值，但是那不是一个好的设计，建议既然已经使用了元组建立列表项目，可以使用元组变量名称+索引方式设置默认选项"
   ]
  },
  {
   "cell_type": "code",
   "execution_count": 18,
   "metadata": {},
   "outputs": [
    {
     "name": "stdout",
     "output_type": "stream",
     "text": [
      "the selection is  one\n",
      "the selection is  one\n",
      "the selection is  four\n",
      "the selection is  three\n"
     ]
    }
   ],
   "source": [
    "\n",
    "from tkinter import *\n",
    "\n",
    "def print_selection():\n",
    "    print('the selection is ',var.get())\n",
    "\n",
    "root=Tk()\n",
    "root.title(\"Tkinter 13\")\n",
    "root.geometry(\"300x200\")\n",
    "\n",
    "menu=(\"one\",\"two\",\"three\",\"four\")\n",
    "\n",
    "var=StringVar(root)#root is the parent\n",
    "var.set(\"one\")\n",
    "optmenu=OptionMenu(root,var,*menu)\n",
    "optmenu.pack(pady=20)\n",
    "\n",
    "btn=Button(root,text=\"print selection\",command=print_selection)\n",
    "btn.pack(padx=20,pady=20,anchor=S,side=BOTTOM)\n",
    "\n",
    "root.mainloop()"
   ]
  },
  {
   "cell_type": "code",
   "execution_count": 23,
   "metadata": {},
   "outputs": [],
   "source": [
    "from tkinter import *\n",
    "from tkinter.ttk import *\n",
    "\n",
    "root=Tk()\n",
    "root.title(\"Tkinter 13\")\n",
    "root.geometry(\"300x200\")\n",
    "\n",
    "var=StringVar()#root is the parent\n",
    "\n",
    "cb=Combobox(root,textvariable=var,\n",
    "            values=(\"one\",\"two\",\"three\",\"four\"))\n",
    "cb.pack(pady=20)\n",
    "\n",
    "root.mainloop()"
   ]
  },
  {
   "cell_type": "code",
   "execution_count": 24,
   "metadata": {},
   "outputs": [],
   "source": [
    "from tkinter import *\n",
    "from tkinter.ttk import *\n",
    "\n",
    "root=Tk()\n",
    "root.title(\"Tkinter 13\")\n",
    "root.geometry(\"300x200\")\n",
    "\n",
    "var=StringVar()#root is the parent\n",
    "\n",
    "cb=Combobox(root,textvariable=var,)\n",
    "cb['value']=(\"one\",\"two\",\"three\",\"four\")#same as cb['values']将参数独立在方法外处理\n",
    "cb.pack(pady=20)\n",
    "\n",
    "root.mainloop()"
   ]
  },
  {
   "cell_type": "code",
   "execution_count": 26,
   "metadata": {},
   "outputs": [],
   "source": [
    "from tkinter import *\n",
    "from tkinter.ttk import *\n",
    "\n",
    "root=Tk()\n",
    "root.title(\"Tkinter 13\")\n",
    "root.geometry(\"300x200\")\n",
    "\n",
    "var=StringVar()#root is the parent\n",
    "var.set(\"one\")\n",
    "cb=Combobox(root,textvariable=var,)\n",
    "cb['value']=(\"one\",\"two\",\"three\",\"four\")#same as cb['values']将参数独立在方法外处理\n",
    "#cb.current(2)#设置默认值\n",
    "cb.pack(pady=20)\n",
    "\n",
    "root.mainloop()"
   ]
  },
  {
   "cell_type": "code",
   "execution_count": 27,
   "metadata": {},
   "outputs": [
    {
     "name": "stdout",
     "output_type": "stream",
     "text": [
      "the selection is  three\n"
     ]
    }
   ],
   "source": [
    "from tkinter import *\n",
    "from tkinter.ttk import *\n",
    "def print_selection():\n",
    "    print('the selection is ',var.get())\n",
    "\n",
    "root=Tk()\n",
    "root.title(\"Tkinter 13\")\n",
    "root.geometry(\"300x200\")\n",
    "\n",
    "var=StringVar()#root is the parent\n",
    "\n",
    "cb=Combobox(root,textvariable=var,)\n",
    "cb['value']=(\"one\",\"two\",\"three\",\"four\")#same as cb['values']将参数独立在方法外处理\n",
    "cb.current(2)#设置默认值\n",
    "cb.pack(pady=20)\n",
    "\n",
    "btn=Button(root,text=\"print selection\",command=print_selection)\n",
    "btn.pack(padx=20,pady=20,anchor=S,side=BOTTOM)\n",
    "\n",
    "root.mainloop()"
   ]
  },
  {
   "cell_type": "code",
   "execution_count": 28,
   "metadata": {},
   "outputs": [],
   "source": [
    "from tkinter import *\n",
    "from tkinter.ttk import *\n",
    "def comselection(event):\n",
    "    labelvar.set(var.get())\n",
    "\n",
    "root=Tk()\n",
    "root.title(\"Tkinter 13\")\n",
    "root.geometry(\"300x200\")\n",
    "\n",
    "var=StringVar()#root is the parent\n",
    "cb=Combobox(root,textvariable=var,)\n",
    "cb['value']=(\"one\",\"two\",\"three\",\"four\")#same as cb['values']将参数独立在方法外处理\n",
    "cb.current(2)#设置默认值\n",
    "cb.bind(\"<<ComboboxSelected>>\",comselection)\n",
    "cb.pack(pady=20)\n",
    "\n",
    "labelvar=StringVar()\n",
    "label=Label(root,textvariable=labelvar)\n",
    "labelvar.set(var.get())\n",
    "label.pack(pady=20)\n",
    "\n",
    "root.mainloop()"
   ]
  },
  {
   "cell_type": "code",
   "execution_count": null,
   "metadata": {},
   "outputs": [],
   "source": []
  }
 ],
 "metadata": {
  "kernelspec": {
   "display_name": "py39",
   "language": "python",
   "name": "python3"
  },
  "language_info": {
   "codemirror_mode": {
    "name": "ipython",
    "version": 3
   },
   "file_extension": ".py",
   "mimetype": "text/x-python",
   "name": "python",
   "nbconvert_exporter": "python",
   "pygments_lexer": "ipython3",
   "version": "3.9.16"
  },
  "orig_nbformat": 4
 },
 "nbformat": 4,
 "nbformat_minor": 2
}
