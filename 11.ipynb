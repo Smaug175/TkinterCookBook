{
 "cells": [
  {
   "cell_type": "code",
   "execution_count": 2,
   "metadata": {},
   "outputs": [],
   "source": [
    "from tkinter import *\n",
    "def pythonclicked():\n",
    "    if varpy.get():\n",
    "        lab.config(text='Python')\n",
    "    else:\n",
    "        lab.config(text='unselected')\n",
    "def javaclicked():\n",
    "    if varjava.get():\n",
    "        lab.config(text='Java')\n",
    "    else:\n",
    "        lab.config(text='unselected')\n",
    "def buttonclicked():\n",
    "    lab.config(text='Button clicked')\n",
    "\n",
    "root = Tk()\n",
    "root.title('ch11_1')\n",
    "root.geometry('300x200')\n",
    "\n",
    "btn=Button(root,text='Click me',command=buttonclicked)\n",
    "btn.pack(side=TOP,pady=10,anchor=W)\n",
    "varpy=BooleanVar()\n",
    "varjava=BooleanVar()\n",
    "cbnpy=Checkbutton(root,text='Python',variable=varpy,command=pythonclicked)\n",
    "cbnpy.pack(padx=10,pady=10,anchor=W)\n",
    "cbnjava=Checkbutton(root,text='Java',variable=varjava,command=javaclicked)\n",
    "cbnjava.pack(padx=10,pady=10,anchor=W)\n",
    "\n",
    "lab=Label(root,\n",
    "          bg='yellow',fg='blue',width=15,height=3,\n",
    "          font=('Times',20,'bold'))\n",
    "lab.pack(side=LEFT,padx=10,pady=10,anchor=W)\n",
    "\n",
    "root.mainloop()\n",
    "\n"
   ]
  },
  {
   "cell_type": "code",
   "execution_count": 3,
   "metadata": {},
   "outputs": [],
   "source": [
    "from tkinter import *\n",
    "def pythonclicked():\n",
    "    if varpy.get():\n",
    "        lab.config(text='Python')\n",
    "    else:\n",
    "        lab.config(text='unselected')\n",
    "def javaclicked():\n",
    "    if varjava.get():\n",
    "        lab.config(text='Java')\n",
    "    else:\n",
    "        lab.config(text='unselected')\n",
    "def buttonclicked(event):\n",
    "    lab.config(text='Button clicked')\n",
    "\n",
    "root = Tk()\n",
    "root.title('ch11_1')\n",
    "root.geometry('300x200')\n",
    "\n",
    "btn=Button(root,text='Click me')\n",
    "btn.pack(side=TOP,pady=10,anchor=W)\n",
    "btn.bind('<Button-1>',buttonclicked)\n",
    "\n",
    "varpy=BooleanVar()\n",
    "varjava=BooleanVar()\n",
    "cbnpy=Checkbutton(root,text='Python',variable=varpy,command=pythonclicked)\n",
    "cbnpy.pack(padx=10,pady=10,anchor=W)\n",
    "cbnjava=Checkbutton(root,text='Java',variable=varjava,command=javaclicked)\n",
    "cbnjava.pack(padx=10,pady=10,anchor=W)\n",
    "\n",
    "lab=Label(root,\n",
    "          bg='yellow',fg='blue',width=15,height=3,\n",
    "          font=('Times',20,'bold'))\n",
    "lab.pack(side=LEFT,padx=10,pady=10,anchor=W)\n",
    "\n",
    "root.mainloop()\n",
    "\n"
   ]
  },
  {
   "cell_type": "code",
   "execution_count": 4,
   "metadata": {},
   "outputs": [
    {
     "name": "stdout",
     "output_type": "stream",
     "text": [
      "88 80\n",
      "86 109\n",
      "172 179\n",
      "48 42\n",
      "185 190\n",
      "121 84\n",
      "48 62\n",
      "111 79\n",
      "16 52\n",
      "17 39\n",
      "19 174\n",
      "166 170\n",
      "129 188\n",
      "158 169\n",
      "158 168\n",
      "155 185\n",
      "130 168\n",
      "104 150\n",
      "91 143\n",
      "83 139\n",
      "71 134\n",
      "59 128\n",
      "46 122\n",
      "27 115\n",
      "25 113\n",
      "27 90\n",
      "38 76\n",
      "43 58\n",
      "43 39\n",
      "46 24\n",
      "47 18\n",
      "49 11\n",
      "49 13\n",
      "49 14\n",
      "49 14\n",
      "49 24\n",
      "49 25\n"
     ]
    }
   ],
   "source": [
    "from tkinter import *\n",
    "def callback(Event):\n",
    "    print(Event.x,Event.y)\n",
    "\n",
    "root = Tk()\n",
    "root.title('ch11_2')\n",
    "frame=Frame(root,width=200,height=200)\n",
    "frame.bind('<Button-1>',callback)\n",
    "frame.pack()\n",
    "\n",
    "root.mainloop()"
   ]
  },
  {
   "cell_type": "code",
   "execution_count": 10,
   "metadata": {},
   "outputs": [],
   "source": [
    "from tkinter import *\n",
    "def mouseMove(event):\n",
    "    vartst='Mouse move at - x:{} ,y:{}'.format(event.x,event.y)\n",
    "    var.set(vartst)\n",
    "\n",
    "root = Tk()\n",
    "root.title('ch11_2')\n",
    "root.geometry('300x200')\n",
    "\n",
    "x,y=0,0\n",
    "var=StringVar()\n",
    "text='Mouse move at - x:{} ,y:{}'.format(x,y)\n",
    "var.set(text)\n",
    "\n",
    "lab=Label(root,textvariable=var)\n",
    "lab.pack(side=RIGHT,anchor=S,padx=10,pady=10)\n",
    "\n",
    "root.bind('<Motion>',mouseMove)\n",
    "\n",
    "root.mainloop()"
   ]
  },
  {
   "cell_type": "code",
   "execution_count": 11,
   "metadata": {},
   "outputs": [],
   "source": [
    "from tkinter import *\n",
    "def enter(event):\n",
    "    x.set('Mouse enter')\n",
    "def out(event):\n",
    "    x.set('Mouse leave')\n",
    "\n",
    "root = Tk()\n",
    "root.title('ch11_3')\n",
    "root.geometry('300x200')\n",
    "\n",
    "btn=Button(root,text='exit',command=root.destroy)\n",
    "btn.pack(side=BOTTOM,pady=30)\n",
    "btn.bind('<Enter>',enter)\n",
    "btn.bind('<Leave>',out)\n",
    "\n",
    "x=StringVar()\n",
    "lab=Label(root,textvariable=x,\n",
    "          bg='yellow',fg='blue',width=15,height=3,\n",
    "          font=('Times',20,'bold'))\n",
    "lab.pack(side=LEFT,padx=10,pady=10,anchor=W)\n",
    "\n",
    "root.mainloop()\n"
   ]
  },
  {
   "cell_type": "code",
   "execution_count": 15,
   "metadata": {},
   "outputs": [],
   "source": [
    "from tkinter import *\n",
    "from tkinter import messagebox\n",
    "\n",
    "def leave(event):\n",
    "    ret=messagebox.askyesno('Message','Leave or not')\n",
    "    if ret==True:\n",
    "        root.destroy()\n",
    "    else:\n",
    "        return\n",
    "\n",
    "root = Tk()\n",
    "root.title('ch11_4')\n",
    "\n",
    "root.bind(\"<Escape>\",leave) # <Escape> is the key of ESC\n",
    "lab=Label(root,text='Press ESC to leave',\n",
    "          bg='yellow',fg='blue',width=15,height=3,\n",
    "          font=('Times',20,'bold'))\n",
    "lab.pack(padx=10,pady=10)\n",
    "\n",
    "root.mainloop()"
   ]
  },
  {
   "cell_type": "code",
   "execution_count": 18,
   "metadata": {},
   "outputs": [
    {
     "name": "stdout",
     "output_type": "stream",
     "text": [
      "pressed: ''\n",
      "pressed: ''\n",
      "pressed: ''\n",
      "pressed: ''\n",
      "pressed: '阿'\n",
      "pressed: '萨'\n",
      "pressed: '德'\n"
     ]
    }
   ],
   "source": [
    "from tkinter import *\n",
    "\n",
    "def key(event):\n",
    "    print('pressed: '+repr(event.char))\n",
    "\n",
    "root = Tk()\n",
    "root.title('ch11_5')\n",
    "\n",
    "root.bind('<Key>',key)\n",
    "\n",
    "root.mainloop()"
   ]
  },
  {
   "attachments": {},
   "cell_type": "markdown",
   "metadata": {},
   "source": [
    "我们在第8章学习了框架Frame的观念，框架本身是一个Widget控件，在使用框架时需特别小心获得焦点的概念，当事件绑定与Frame有关时，必须在Frame获得焦点时，键盘绑定才可生效。"
   ]
  },
  {
   "cell_type": "code",
   "execution_count": 21,
   "metadata": {},
   "outputs": [
    {
     "name": "stdout",
     "output_type": "stream",
     "text": [
      "clicked at 50 51\n",
      "pressed: 'a'\n",
      "pressed: 'a'\n",
      "pressed: 'a'\n"
     ]
    }
   ],
   "source": [
    "#这个程序在执行时必须将鼠标光标放在窗口内，\n",
    "# 同时先有鼠标单击，\n",
    "# 这时第7行同时使用frame.focus_set( )\n",
    "# 让Widget控件frame获得焦点，\n",
    "# 然后按键才可以动作。\n",
    "\n",
    "from tkinter import *\n",
    "def key(event):\n",
    "    print('pressed: '+repr(event.char))\n",
    "def coordxy(event):\n",
    "    frame.focus_set()#让Widget控件frame获得焦点\n",
    "    print('clicked at',event.x,event.y)\n",
    "\n",
    "root = Tk()\n",
    "root.title('ch11_6')\n",
    "\n",
    "frame=Frame(root,width=100,height=100)\n",
    "frame.bind('<Key>',key)\n",
    "frame.bind('<Button-1>',coordxy)\n",
    "frame.pack()\n",
    "\n",
    "root.mainloop()"
   ]
  },
  {
   "cell_type": "code",
   "execution_count": 22,
   "metadata": {},
   "outputs": [
    {
     "name": "stdout",
     "output_type": "stream",
     "text": [
      "Button clicked\n",
      "Button clicked\n",
      "Button clicked\n",
      "Button clicked\n",
      "Button clicked\n"
     ]
    }
   ],
   "source": [
    "from tkinter import *\n",
    "def buttonclicked(event):\n",
    "    print('Button clicked')\n",
    "def toggle(onoff):\n",
    "    if var.get()==True:\n",
    "        onoff.bind('<Button-1>',buttonclicked)\n",
    "    else:\n",
    "        onoff.unbind('<Button-1>')\n",
    "\n",
    "root = Tk()\n",
    "root.title('ch11_7')\n",
    "root.geometry('300x200')\n",
    "\n",
    "btn = Button(root,text='Click me')\n",
    "btn.pack(side=TOP,pady=10,anchor=W)\n",
    "\n",
    "var=BooleanVar()\n",
    "cbn=Checkbutton(root,text='Bind/unbind',\n",
    "                variable=var,command=lambda:toggle(btn))#lambda:toggle(btn)是一个匿名函数\n",
    "cbn.pack(padx=10,pady=10,anchor=W)\n",
    "\n",
    "root.mainloop()"
   ]
  },
  {
   "attachments": {},
   "cell_type": "markdown",
   "metadata": {},
   "source": [
    "执行一个事件绑定多个事件处理程序，同样是使用bind( )方法，但是新增加的事件处理程序需要在bind( )方法内增加参数add=\"+"
   ]
  },
  {
   "cell_type": "code",
   "execution_count": 23,
   "metadata": {},
   "outputs": [
    {
     "name": "stdout",
     "output_type": "stream",
     "text": [
      "Bind Button2 clicked\n",
      "Command Button1 clicked\n"
     ]
    }
   ],
   "source": [
    "from tkinter import *\n",
    "def btnc1():\n",
    "    print('Command Button1 clicked')\n",
    "def btnc2(Event):\n",
    "    print('Bind Button2 clicked')\n",
    "\n",
    "root = Tk()\n",
    "root.title('ch11_8')\n",
    "root.geometry('300x200')\n",
    "\n",
    "btn=Button(root,text='Command Button1',command=btnc1)\n",
    "btn.pack(side=TOP,pady=10,anchor=W)\n",
    "btn.bind('<Button-1>',btnc2,add='+')\n",
    "\n",
    "root.mainloop()\n",
    "\n",
    "#了当单击按钮事件发生时，\n",
    "# 程序会先执行bind( )绑定的程序，\n",
    "# 然后再执行Button( )内command指定的程序。"
   ]
  },
  {
   "attachments": {},
   "cell_type": "markdown",
   "metadata": {},
   "source": [
    "Protocols可以翻译为通信协议，在tkinter内可以解释为窗口管理程序（Windows Manager）与应用程序（Application）之间的通信协议。tkinter也支持使用绑定概念更改此通信协议。"
   ]
  },
  {
   "cell_type": "code",
   "execution_count": 24,
   "metadata": {},
   "outputs": [],
   "source": [
    "from tkinter import *\n",
    "from tkinter import messagebox\n",
    "\n",
    "def callback():\n",
    "    res=messagebox.askokcancel('Message','OK or Cancel')\n",
    "    if res==True:\n",
    "        root.destroy()\n",
    "    else:\n",
    "        return\n",
    "    \n",
    "root = Tk()\n",
    "root.title('ch11_9')\n",
    "root.geometry('300x200')\n",
    "root.protocol('WM_DELETE_WINDOW',callback)\n",
    "\n",
    "root.mainloop()"
   ]
  },
  {
   "cell_type": "code",
   "execution_count": null,
   "metadata": {},
   "outputs": [],
   "source": []
  }
 ],
 "metadata": {
  "kernelspec": {
   "display_name": "py39",
   "language": "python",
   "name": "python3"
  },
  "language_info": {
   "codemirror_mode": {
    "name": "ipython",
    "version": 3
   },
   "file_extension": ".py",
   "mimetype": "text/x-python",
   "name": "python",
   "nbconvert_exporter": "python",
   "pygments_lexer": "ipython3",
   "version": "3.9.16"
  },
  "orig_nbformat": 4
 },
 "nbformat": 4,
 "nbformat_minor": 2
}
