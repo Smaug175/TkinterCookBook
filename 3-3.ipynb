{
 "cells": [
  {
   "cell_type": "markdown",
   "source": [
    "grid方法\n",
    "这是一种以格状或者类似Excel电子表格方式包装和定位窗口组件的方法。grid方法的语法格式如下。"
   ],
   "metadata": {
    "collapsed": false,
    "pycharm": {
     "name": "#%% md\n"
    }
   }
  },
  {
   "cell_type": "code",
   "execution_count": 2,
   "outputs": [],
   "source": [
    "from tkinter import *\n",
    "\n",
    "window=Tk()\n",
    "window.title('Title')\n",
    "\n",
    "lab1=Label(window,text='贵州民族大学',bg='lightyellow',width=15)\n",
    "lab2=Label(window,text='贵州大学',bg='lightgreen',width=15)\n",
    "lab3=Label(window,text='贵州艺术学院',bg='lightblue',width=15)\n",
    "\n",
    "lab1.grid(row=0,column=0)\n",
    "lab2.grid(row=1,column=0)\n",
    "lab3.grid(row=1,column=1)\n",
    "\n",
    "window.mainloop()"
   ],
   "metadata": {
    "collapsed": false,
    "pycharm": {
     "name": "#%%\n"
    }
   }
  },
  {
   "cell_type": "code",
   "execution_count": 3,
   "outputs": [],
   "source": [
    "from tkinter import *\n",
    "\n",
    "window=Tk()\n",
    "window.title('Title')\n",
    "\n",
    "lab1=Label(window,text='贵州民族大学',bg='lightyellow',width=15)\n",
    "lab2=Label(window,text='贵州大学',bg='lightgreen',width=15)\n",
    "lab3=Label(window,text='贵州艺术学院',bg='lightblue',width=15)\n",
    "\n",
    "lab1.grid(row=0,column=0)\n",
    "lab2.grid(row=1,column=2)\n",
    "lab3.grid(row=2,column=1)\n",
    "\n",
    "window.mainloop()"
   ],
   "metadata": {
    "collapsed": false,
    "pycharm": {
     "name": "#%%\n"
    }
   }
  },
  {
   "cell_type": "code",
   "execution_count": 5,
   "outputs": [],
   "source": [
    "from tkinter import *\n",
    "\n",
    "window = Tk()\n",
    "window.title('')\n",
    "\n",
    "l1=Label(window,text='1',relief='raised')\n",
    "l2=Label(window,text='2',relief='raised')\n",
    "l3=Label(window,text='3',relief='raised')\n",
    "l4=Label(window,text='4',relief='raised')\n",
    "l5=Label(window,text='5',relief='raised')\n",
    "l6=Label(window,text='6',relief='raised')\n",
    "l7=Label(window,text='7',relief='raised')\n",
    "l8=Label(window,text='8',relief='raised')\n",
    "l1.grid(row=0,column=0)\n",
    "l2.grid(row=0,column=1)\n",
    "l3.grid(row=0,column=2)\n",
    "l4.grid(row=0,column=3)\n",
    "l5.grid(row=1,column=0)\n",
    "l6.grid(row=1,column=1)\n",
    "l7.grid(row=1,column=2)\n",
    "l8.grid(row=1,column=3)\n",
    "\n",
    "window.mainloop()"
   ],
   "metadata": {
    "collapsed": false,
    "pycharm": {
     "name": "#%%\n"
    }
   }
  },
  {
   "cell_type": "code",
   "execution_count": 1,
   "outputs": [],
   "source": [
    "from tkinter import *\n",
    "\n",
    "window = Tk()\n",
    "window.title('')\n",
    "\n",
    "l1=Label(window,text='1',relief='raised')\n",
    "l2=Label(window,text='2',relief='raised')\n",
    "l3=Label(window,text='3',relief='raised')\n",
    "l4=Label(window,text='4',relief='raised')\n",
    "l5=Label(window,text='5',relief='raised')\n",
    "l6=Label(window,text='6',relief='raised')\n",
    "l7=Label(window,text='7',relief='raised')\n",
    "l8=Label(window,text='8',relief='raised')\n",
    "l1.grid(row=0,column=0)\n",
    "l2.grid(row=0,column=1,columnspan=2)\n",
    "l4.grid(row=0,column=3)\n",
    "l5.grid(row=1,column=0)\n",
    "l6.grid(row=1,column=1)\n",
    "l7.grid(row=1,column=2)\n",
    "l8.grid(row=1,column=3)\n",
    "\n",
    "window.mainloop()"
   ],
   "metadata": {
    "collapsed": false,
    "pycharm": {
     "name": "#%%\n"
    }
   }
  },
  {
   "cell_type": "code",
   "execution_count": 2,
   "outputs": [],
   "source": [
    "from tkinter import *\n",
    "\n",
    "window = Tk()\n",
    "window.title('')\n",
    "\n",
    "l1=Label(window,text='1',relief='raised')\n",
    "l2=Label(window,text='2',relief='raised')\n",
    "l3=Label(window,text='3',relief='raised')\n",
    "l4=Label(window,text='4',relief='raised')\n",
    "l5=Label(window,text='5',relief='raised')\n",
    "l6=Label(window,text='6',relief='raised')\n",
    "l7=Label(window,text='7',relief='raised')\n",
    "l8=Label(window,text='8',relief='raised')\n",
    "l1.grid(row=0,column=0)\n",
    "l2.grid(row=0,column=1,rowspan=2)\n",
    "l3.grid(row=0,column=2)\n",
    "l4.grid(row=0,column=3)\n",
    "l5.grid(row=1,column=0)\n",
    "l7.grid(row=1,column=2)\n",
    "l8.grid(row=1,column=3)\n",
    "\n",
    "window.mainloop()"
   ],
   "metadata": {
    "collapsed": false,
    "pycharm": {
     "name": "#%%\n"
    }
   }
  },
  {
   "cell_type": "code",
   "execution_count": 3,
   "outputs": [],
   "source": [
    "from tkinter import *\n",
    "\n",
    "window = Tk()\n",
    "window.title('')\n",
    "\n",
    "l1=Label(window,text='1',relief='raised')\n",
    "l2=Label(window,text='2',relief='raised')\n",
    "l3=Label(window,text='3',relief='raised')\n",
    "l4=Label(window,text='4',relief='raised')\n",
    "l5=Label(window,text='5',relief='raised')\n",
    "l6=Label(window,text='6',relief='raised')\n",
    "l7=Label(window,text='7',relief='raised')\n",
    "l8=Label(window,text='8',relief='raised')\n",
    "l1.grid(row=0,column=0)\n",
    "l2.grid(row=0,column=1,rowspan=2,columnspan=2)\n",
    "l4.grid(row=0,column=3)\n",
    "l5.grid(row=1,column=0)\n",
    "l8.grid(row=1,column=3)\n",
    "\n",
    "window.mainloop()"
   ],
   "metadata": {
    "collapsed": false,
    "pycharm": {
     "name": "#%%\n"
    }
   }
  },
  {
   "cell_type": "code",
   "execution_count": 4,
   "outputs": [],
   "source": [
    "from tkinter import *\n",
    "\n",
    "window = Tk()\n",
    "window.title('')\n",
    "\n",
    "l1=Label(window,text='1',relief='raised')\n",
    "l2=Label(window,text='2',relief='raised')\n",
    "l3=Label(window,text='3',relief='raised')\n",
    "l4=Label(window,text='4',relief='raised')\n",
    "l5=Label(window,text='5',relief='raised')\n",
    "l6=Label(window,text='6',relief='raised')\n",
    "l7=Label(window,text='7',relief='raised')\n",
    "l8=Label(window,text='8',relief='raised')\n",
    "l1.grid(row=0,column=0,padx=5,pady=5)\n",
    "l2.grid(row=0,column=1,padx=5,pady=5)\n",
    "l3.grid(row=0,column=2,padx=5,pady=5)\n",
    "l4.grid(row=0,column=3,padx=5,pady=5)\n",
    "l5.grid(row=1,column=0,padx=5)\n",
    "l6.grid(row=1,column=1,padx=5)\n",
    "l7.grid(row=1,column=2,padx=5)\n",
    "l8.grid(row=1,column=3,padx=5)\n",
    "\n",
    "window.mainloop()"
   ],
   "metadata": {
    "collapsed": false,
    "pycharm": {
     "name": "#%%\n"
    }
   }
  },
  {
   "cell_type": "code",
   "execution_count": 7,
   "outputs": [],
   "source": [
    "from tkinter import *\n",
    "\n",
    "window=Tk()\n",
    "\n",
    "l1=Label(window,text='abcd')\n",
    "l2=Label(window,bg='yellow',width=20)\n",
    "l3=Label(window,text='abcdefg')\n",
    "l4=Label(window,bg='aqua',width=20)\n",
    "\n",
    "l1.grid(row=0,column=0,padx=5,pady=5,sticky=W)\n",
    "l2.grid(row=0,column=1,padx=5,pady=5)\n",
    "l3.grid(row=1,column=0,padx=5)\n",
    "l4.grid(row=1,column=1,padx=5)\n",
    "\n",
    "window.mainloop()"
   ],
   "metadata": {
    "collapsed": false,
    "pycharm": {
     "name": "#%%\n"
    }
   }
  },
  {
   "cell_type": "code",
   "execution_count": 10,
   "outputs": [],
   "source": [
    "from tkinter import *\n",
    "\n",
    "window=Tk()\n",
    "\n",
    "l1=Label(window,text='abcd',relief='raised')\n",
    "l2=Label(window,bg='yellow',width=20)\n",
    "l3=Label(window,text='abcdefg',relief='raised')\n",
    "l4=Label(window,bg='aqua',width=20)\n",
    "\n",
    "l1.grid(row=0,column=0,padx=5,pady=5,sticky=W+E)#可以拉长标签\n",
    "l2.grid(row=0,column=1,padx=5,pady=5)\n",
    "l3.grid(row=1,column=0,padx=5)\n",
    "l4.grid(row=1,column=1,padx=5)\n",
    "\n",
    "window.mainloop()"
   ],
   "metadata": {
    "collapsed": false,
    "pycharm": {
     "name": "#%%\n"
    }
   }
  },
  {
   "cell_type": "code",
   "execution_count": 11,
   "outputs": [],
   "source": [
    "#使用grid方法建立色彩标签的应用\n",
    "from tkinter import *\n",
    "\n",
    "root=Tk()\n",
    "\n",
    "Colors=['red','orange','yellow','green','blue','purple']\n",
    "\n",
    "r=0\n",
    "for color in Colors:\n",
    "    Label(root,text=color,relief='groove',width=20).grid(row=r,column=0)\n",
    "    Label(root,bg=color,relief='ridge',width=20).grid(row=r,column=1)\n",
    "    r+=1\n",
    "\n",
    "root.mainloop()"
   ],
   "metadata": {
    "collapsed": false,
    "pycharm": {
     "name": "#%%\n"
    }
   }
  },
  {
   "cell_type": "code",
   "execution_count": 14,
   "outputs": [],
   "source": [
    "from tkinter import *\n",
    "\n",
    "root=Tk()\n",
    "\n",
    "root.rowconfigure(1,weight=1)\n",
    "root.columnconfigure(0,weight=1)\n",
    "\n",
    "l1=Label(root,text='Label 1',bg='pink')\n",
    "l1.grid(row=0,column=0,padx=5,pady=5,sticky=W+E)\n",
    "\n",
    "l2=Label(root,text='Label 2',bg='lightblue')\n",
    "l2.grid(row=0,column=1,padx=5,pady=5)\n",
    "\n",
    "l3=Label(root,bg='yellow')\n",
    "l3.grid(row=1,column=0,columnspan=2,padx=5,pady=5,\n",
    "        sticky=N+W+S+E)\n",
    "\n",
    "root.mainloop()"
   ],
   "metadata": {
    "collapsed": false,
    "pycharm": {
     "name": "#%%\n"
    }
   }
  },
  {
   "cell_type": "code",
   "execution_count": null,
   "outputs": [],
   "source": [],
   "metadata": {
    "collapsed": false,
    "pycharm": {
     "name": "#%%\n"
    }
   }
  }
 ],
 "metadata": {
  "kernelspec": {
   "display_name": "Python 3",
   "language": "python",
   "name": "python3"
  },
  "language_info": {
   "codemirror_mode": {
    "name": "ipython",
    "version": 2
   },
   "file_extension": ".py",
   "mimetype": "text/x-python",
   "name": "python",
   "nbconvert_exporter": "python",
   "pygments_lexer": "ipython2",
   "version": "2.7.6"
  }
 },
 "nbformat": 4,
 "nbformat_minor": 0
}