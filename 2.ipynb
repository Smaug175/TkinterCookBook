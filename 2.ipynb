{
 "cells": [
  {
   "cell_type": "markdown",
   "source": [
    "第二章 标签Label"
   ],
   "metadata": {
    "collapsed": false,
    "pycharm": {
     "name": "#%% md\n"
    }
   }
  },
  {
   "cell_type": "markdown",
   "source": [
    "2.1 建立一个标签"
   ],
   "metadata": {
    "collapsed": false,
    "pycharm": {
     "name": "#%% md\n"
    }
   }
  },
  {
   "cell_type": "code",
   "execution_count": 2,
   "outputs": [
    {
     "name": "stdout",
     "output_type": "stream",
     "text": [
      "<class 'tkinter.Label'>\n"
     ]
    }
   ],
   "source": [
    "from tkinter import *\n",
    "\n",
    "root = Tk()\n",
    "root.title('2.1')\n",
    "label = Label(root,text=\"我喜欢tkinter\")\n",
    "label.pack()      #包装与定位组件\n",
    "print(type(label))#传回Label数据类型\n",
    "\n",
    "root.mainloop()"
   ],
   "metadata": {
    "collapsed": false,
    "pycharm": {
     "name": "#%%\n"
    }
   }
  },
  {
   "cell_type": "markdown",
   "source": [
    "使用Label().pack()方法"
   ],
   "metadata": {
    "collapsed": false,
    "pycharm": {
     "name": "#%% md\n"
    }
   }
  },
  {
   "cell_type": "code",
   "execution_count": 4,
   "outputs": [
    {
     "name": "stdout",
     "output_type": "stream",
     "text": [
      "<class 'NoneType'>\n"
     ]
    }
   ],
   "source": [
    "from tkinter import *\n",
    "\n",
    "root = Tk()\n",
    "root.title('2.1')\n",
    "label = Label(root,text=\"我喜欢tkinter\").pack()      #包装与定位组件\n",
    "print(type(label))#传回Label数据类型,\n",
    "\n",
    "root.mainloop()"
   ],
   "metadata": {
    "collapsed": false,
    "pycharm": {
     "name": "#%%\n"
    }
   }
  },
  {
   "cell_type": "markdown",
   "source": [
    "此时label的类型将不再是Widget，不能使用后续操作\n",
    "建议以后使用分开声明与pack方法"
   ],
   "metadata": {
    "collapsed": false,
    "pycharm": {
     "name": "#%% md\n"
    }
   }
  },
  {
   "cell_type": "markdown",
   "source": [
    "2.2 Widget的共同属性Color"
   ],
   "metadata": {
    "collapsed": false,
    "pycharm": {
     "name": "#%% md\n"
    }
   }
  },
  {
   "cell_type": "code",
   "execution_count": 5,
   "outputs": [],
   "source": [
    "from tkinter import *\n",
    "\n",
    "root=Tk()\n",
    "root.title('2_3')\n",
    "label=Label(root,text='我喜欢Python编程',\n",
    "            fg='blue',bg='yellow')\n",
    "label.pack()\n",
    "\n",
    "root.mainloop()"
   ],
   "metadata": {
    "collapsed": false,
    "pycharm": {
     "name": "#%%\n"
    }
   }
  },
  {
   "cell_type": "code",
   "execution_count": 8,
   "outputs": [],
   "source": [
    "#2.3 Dimension\n",
    "from tkinter import *\n",
    "\n",
    "root=Tk()\n",
    "root.title('2_4')\n",
    "label=Label(root,text='我喜欢Python编程',\n",
    "            fg='blue',bg='yellow',\n",
    "            height=3,width=15)#单位是字符宽度与字符高度\n",
    "label.pack()\n",
    "\n",
    "root.mainloop()"
   ],
   "metadata": {
    "collapsed": false,
    "pycharm": {
     "name": "#%%\n"
    }
   }
  },
  {
   "cell_type": "code",
   "execution_count": 11,
   "outputs": [],
   "source": [
    "#2.4 Anchor\n",
    "from tkinter import *\n",
    "\n",
    "root=Tk()\n",
    "root.title('2_5')\n",
    "label=Label(root,text='我喜欢Python编程',\n",
    "            fg='blue',bg='yellow',\n",
    "            height=3,width=15,#单位是字符宽度与字符高度\n",
    "            anchor='nw')\n",
    "label.pack()\n",
    "\n",
    "root.mainloop()\n",
    "\n",
    "root=Tk()\n",
    "root.title('2_6')\n",
    "label=Label(root,text='我喜欢Python编程',\n",
    "            fg='blue',bg='yellow',\n",
    "            height=3,width=15,#单位是字符宽度与字符高度\n",
    "            anchor=SE)#可以使用大写的常数\n",
    "label.pack()\n",
    "\n",
    "root.mainloop()"
   ],
   "metadata": {
    "collapsed": false,
    "pycharm": {
     "name": "#%%\n"
    }
   }
  },
  {
   "cell_type": "code",
   "execution_count": 15,
   "outputs": [],
   "source": [
    "#2.5 文字输出换行位置wraplength\n",
    "from tkinter import *\n",
    "\n",
    "root=Tk()\n",
    "root.title('2_7')\n",
    "label=Label(root,text='我喜欢Python编程',\n",
    "            fg='blue',bg='yellow',\n",
    "            height=3,width=15,#单位是字符宽度与字符高度\n",
    "            anchor='nw',\n",
    "            wraplength=40)\n",
    "label.pack()\n",
    "\n",
    "root.mainloop()"
   ],
   "metadata": {
    "collapsed": false,
    "pycharm": {
     "name": "#%%\n"
    }
   }
  },
  {
   "cell_type": "code",
   "execution_count": 18,
   "outputs": [],
   "source": [
    "#2.6 Font属性\n",
    "from tkinter import *\n",
    "\n",
    "root=Tk()\n",
    "root.title('2_8')\n",
    "label=Label(root,text='我喜欢Python编程',\n",
    "            fg='blue',bg='yellow',\n",
    "            height=3,width=15,#单位是字符宽度与字符高度\n",
    "            font='helvetic 20 bold')#可以使用元组 font=('Helvetic',20,'bold')\n",
    "label.pack()\n",
    "\n",
    "root.mainloop()"
   ],
   "metadata": {
    "collapsed": false,
    "pycharm": {
     "name": "#%%\n"
    }
   }
  },
  {
   "cell_type": "code",
   "execution_count": 19,
   "outputs": [],
   "source": [
    "#2.7 justify设置文字对齐位置\n",
    "from tkinter import *\n",
    "\n",
    "root=Tk()\n",
    "root.title('2')\n",
    "label=Label(root,text='我喜欢Python编程，啊哈速度快京哈高速大厦光大卡合计',\n",
    "            fg='blue',bg='yellow',\n",
    "            wraplength=80)#justify默认居中\n",
    "label.pack()\n",
    "\n",
    "root.mainloop()"
   ],
   "metadata": {
    "collapsed": false,
    "pycharm": {
     "name": "#%%\n"
    }
   }
  },
  {
   "cell_type": "code",
   "execution_count": 21,
   "outputs": [],
   "source": [
    "from tkinter import *\n",
    "\n",
    "root=Tk()\n",
    "root.title('标题')\n",
    "label=Label(root,text='我喜欢Python编程，啊哈速度快京哈高速大厦光大卡合计',\n",
    "            fg='blue',bg='yellow',\n",
    "            wraplength=80,justify='left')#justify默认居中'center','right'\n",
    "label.pack()\n",
    "\n",
    "root.mainloop()"
   ],
   "metadata": {
    "collapsed": false,
    "pycharm": {
     "name": "#%%\n"
    }
   }
  },
  {
   "cell_type": "code",
   "execution_count": 22,
   "outputs": [],
   "source": [
    "#2.8 bitmap显示位图（内建的）\n",
    "from tkinter import *\n",
    "\n",
    "root=Tk()\n",
    "root.title('标题')\n",
    "label=Label(root,bitmap='hourglass')\n",
    "label.pack()\n",
    "\n",
    "root.mainloop()"
   ],
   "metadata": {
    "collapsed": false,
    "pycharm": {
     "name": "#%%\n"
    }
   }
  },
  {
   "cell_type": "code",
   "execution_count": 23,
   "outputs": [],
   "source": [
    "#2.9 compound图像与文字共存的参数\n",
    "\"\"\"\n",
    "    left\n",
    "    right\n",
    "    top\n",
    "    button\n",
    "    center\n",
    "\"\"\"\n",
    "from tkinter import *\n",
    "\n",
    "root=Tk()\n",
    "root.title('标题')\n",
    "label=Label(root,bitmap='hourglass',\n",
    "            compound='left',text='时光杯子')\n",
    "label.pack()\n",
    "\n",
    "root.mainloop()"
   ],
   "metadata": {
    "collapsed": false,
    "pycharm": {
     "name": "#%%\n"
    }
   }
  },
  {
   "cell_type": "code",
   "execution_count": 24,
   "outputs": [],
   "source": [
    "from tkinter import *\n",
    "\n",
    "root=Tk()\n",
    "root.title('标题')\n",
    "label=Label(root,bitmap='hourglass',\n",
    "            compound='top',text='时光杯子')\n",
    "label.pack()\n",
    "\n",
    "root.mainloop()"
   ],
   "metadata": {
    "collapsed": false,
    "pycharm": {
     "name": "#%%\n"
    }
   }
  },
  {
   "cell_type": "code",
   "execution_count": 25,
   "outputs": [],
   "source": [
    "from tkinter import *\n",
    "\n",
    "root=Tk()\n",
    "root.title('标题')\n",
    "label=Label(root,bitmap='hourglass',\n",
    "            compound='center',text='时光杯子')\n",
    "label.pack()\n",
    "\n",
    "root.mainloop()"
   ],
   "metadata": {
    "collapsed": false,
    "pycharm": {
     "name": "#%%\n"
    }
   }
  },
  {
   "cell_type": "code",
   "execution_count": 27,
   "outputs": [],
   "source": [
    "#2.10 relief 建立控件边框\n",
    "from tkinter import *\n",
    "\n",
    "root=Tk()\n",
    "root.title('标题')\n",
    "label=Label(root,bitmap='hourglass',\n",
    "            compound='left',text='时光杯子',\n",
    "            relief='raised')\n",
    "label.pack()\n",
    "\n",
    "root.mainloop()"
   ],
   "metadata": {
    "collapsed": false,
    "pycharm": {
     "name": "#%%\n"
    }
   }
  },
  {
   "cell_type": "code",
   "execution_count": 28,
   "outputs": [],
   "source": [
    "#2.11 标签文字与标签区间的间距\n",
    "from tkinter import *\n",
    "\n",
    "root=Tk()\n",
    "root.title('标题')\n",
    "label=Label(root,bitmap='hourglass',\n",
    "            compound='left',text='时光杯子',\n",
    "            relief='raised',bg='lightyellow',\n",
    "            padx=5,pady=10)\n",
    "label.pack()\n",
    "\n",
    "root.mainloop()"
   ],
   "metadata": {
    "collapsed": false,
    "pycharm": {
     "name": "#%%\n"
    }
   }
  },
  {
   "cell_type": "code",
   "execution_count": 29,
   "outputs": [],
   "source": [
    "#2.12 使用PhotoImage加载图像\n",
    "from tkinter import *\n",
    "\n",
    "root=Tk()\n",
    "root.title('标题')\n",
    "gif=PhotoImage(file='2.gif')\n",
    "label=Label(root,image=gif)\n",
    "label.pack()\n",
    "\n",
    "root.mainloop()"
   ],
   "metadata": {
    "collapsed": false,
    "pycharm": {
     "name": "#%%\n"
    }
   }
  },
  {
   "cell_type": "code",
   "execution_count": 1,
   "outputs": [],
   "source": [
    "#使用PIL加载jpg\n",
    "from PIL import ImageTk\n",
    "from PIL import Image as imim#与tkinter的Image冲突所以使用此引入\n",
    "from tkinter import *\n",
    "\n",
    "root=Tk()\n",
    "root.title('标题')\n",
    "root.geometry('680x400')\n",
    "\n",
    "image=imim.open('微信图片_20230408113558.png')\n",
    "img=ImageTk.PhotoImage(image)\n",
    "label=Label(root,image=img)\n",
    "label.pack()\n",
    "\n",
    "root.mainloop()"
   ],
   "metadata": {
    "collapsed": false,
    "pycharm": {
     "name": "#%%\n"
    }
   }
  },
  {
   "cell_type": "code",
   "execution_count": 8,
   "outputs": [],
   "source": [
    "#使用compound参数使图像与文字共存\n",
    "from PIL import ImageTk\n",
    "from PIL import Image as imim#与tkinter的Image冲突所以使用此引入\n",
    "from tkinter import *\n",
    "\n",
    "root=Tk()\n",
    "root.title('标题')\n",
    "\n",
    "text=\"shajshjkadhfkhsadgasdkgakjsdfgkjasdfkajhgkjsdgfkjh\"\n",
    "\n",
    "gif=PhotoImage(file='2.gif')\n",
    "label=Label(root,image=gif,text=text,\n",
    "            bg='lightyellow',compound='center')\n",
    "label.pack()\n",
    "\n",
    "root.mainloop()"
   ],
   "metadata": {
    "collapsed": false,
    "pycharm": {
     "name": "#%%\n"
    }
   }
  },
  {
   "cell_type": "markdown",
   "source": [
    "Widget的共同方法config( )\n",
    "Widget控件在建立时可以直接设置对象属性，若是部分属性未建立，未来在程序执行时如果想要建立或是更改属性可以使用config( )方法。此方法内属性设置的参数用法与建立时相同。"
   ],
   "metadata": {
    "collapsed": false,
    "pycharm": {
     "name": "#%% md\n"
    }
   }
  },
  {
   "cell_type": "code",
   "execution_count": 9,
   "outputs": [],
   "source": [
    "#2.13 计数器的设计，这个程序会每秒更新一次计数器内容。\n",
    "from tkinter import *\n",
    "\n",
    "counter = 0\n",
    "def run_counter(digit):\n",
    "    def counting():\n",
    "        global counter\n",
    "        counter +=1\n",
    "        digit.config(text=str(counter))#更新数字\n",
    "        digit.after(1000,counting)\n",
    "    counting()\n",
    "#内嵌方法的设计\n",
    "root = Tk()\n",
    "root.title('Title')\n",
    "digit=Label(root,bg='yellow',fg='blue',\n",
    "            height=3,width=10,\n",
    "            font='Helvetic 20 bold')\n",
    "digit.pack()\n",
    "run_counter(digit)#可变方法\n",
    "\n",
    "root.mainloop()"
   ],
   "metadata": {
    "collapsed": false,
    "pycharm": {
     "name": "#%%\n"
    }
   }
  },
  {
   "cell_type": "markdown",
   "source": [
    "##Widget的共同属性Cursors\n",
    "Cursors表示光标形状，程序设计时如果想要更改光标形状，例如，可以设计鼠标光标在标签（Label）或按钮（Button）上时的形状，可以使用本功能。不过读者需留意，光标形状可能会因为操作系统不同而有所差异。下面是光标形状与名称的对应。"
   ],
   "metadata": {
    "collapsed": false,
    "pycharm": {
     "name": "#%% md\n"
    }
   }
  },
  {
   "cell_type": "code",
   "execution_count": 10,
   "outputs": [],
   "source": [
    "#2.14 当鼠标光标经过raised标签时，其形状将变为“heart”。这个程序的重点是第10行。\n",
    "from tkinter import *\n",
    "\n",
    "root=Tk()\n",
    "\n",
    "label=Label(root,text='raised',relief='raised',\n",
    "            bg='lightyellow',\n",
    "            padx=5,pady=10,\n",
    "            cursor='heart')\n",
    "label.pack()\n",
    "\n",
    "root.mainloop()"
   ],
   "metadata": {
    "collapsed": false,
    "pycharm": {
     "name": "#%%\n"
    }
   }
  },
  {
   "cell_type": "markdown",
   "source": [
    "同时说明了options的所有参数。其实Widget有一个共同方法keys( )可以用列表（list）传回这个Widget所有的参数"
   ],
   "metadata": {
    "collapsed": false,
    "pycharm": {
     "name": "#%% md\n"
    }
   }
  },
  {
   "cell_type": "code",
   "execution_count": 11,
   "outputs": [
    {
     "name": "stdout",
     "output_type": "stream",
     "text": [
      "['activebackground', 'activeforeground', 'anchor', 'background', 'bd', 'bg', 'bitmap', 'borderwidth', 'compound', 'cursor', 'disabledforeground', 'fg', 'font', 'foreground', 'height', 'highlightbackground', 'highlightcolor', 'highlightthickness', 'image', 'justify', 'padx', 'pady', 'relief', 'state', 'takefocus', 'text', 'textvariable', 'underline', 'width', 'wraplength']\n"
     ]
    }
   ],
   "source": [
    "#程序实例ch2_25.py：传回标签Label( )方法的所有参数。\n",
    "from tkinter import *\n",
    "\n",
    "root=Tk()\n",
    "\n",
    "label=Label(root,text='raised',relief='raised',\n",
    "            bg='lightyellow',\n",
    "            padx=5,pady=10,\n",
    "            cursor='heart')\n",
    "label.pack()\n",
    "print(label.keys())\n",
    "\n",
    "root.mainloop()"
   ],
   "metadata": {
    "collapsed": false,
    "pycharm": {
     "name": "#%%\n"
    }
   }
  },
  {
   "cell_type": "markdown",
   "source": [
    "2-16　分隔线Separator\n",
    "在设计GUI程序时，有时适度地在适当位置增加分隔线可以让整体视觉效果更佳。tkinter.ttk中有Separator模块，可以用此模块完成此工作，它的语法格式如下。"
   ],
   "metadata": {
    "collapsed": false,
    "pycharm": {
     "name": "#%% md\n"
    }
   }
  },
  {
   "cell_type": "code",
   "execution_count": 1,
   "outputs": [],
   "source": [
    "#在标签间建立分隔线\n",
    "from tkinter import *\n",
    "from tkinter.ttk import Separator\n",
    "\n",
    "root = Tk()\n",
    "root.title('')\n",
    "myTitle='LeakyReLU layer'\n",
    "myContent='Input shape Arbitrary. Use the keyword argument (tuple of integers, does not include the batch axis) when using this layer as the first layer in a model.input_shape Output shape Same shape as the input. Arguments'\n",
    "label1=Label(root,text=myTitle,\n",
    "             font='Helvetic 20 bold',bg='yellow')\n",
    "label1.pack(padx=10,pady=10)\n",
    "\n",
    "sep=Separator(root,orient=HORIZONTAL)\n",
    "sep.pack(fill=X,pady=5)\n",
    "\n",
    "label2=Label(root,text=myContent,bg='yellow')\n",
    "label2.pack(padx=10,pady=10)\n",
    "\n",
    "root.mainloop()"
   ],
   "metadata": {
    "collapsed": false,
    "pycharm": {
     "name": "#%%\n"
    }
   }
  },
  {
   "cell_type": "code",
   "execution_count": null,
   "outputs": [],
   "source": [],
   "metadata": {
    "collapsed": false,
    "pycharm": {
     "name": "#%%\n"
    }
   }
  }
 ],
 "metadata": {
  "kernelspec": {
   "display_name": "Python 3",
   "language": "python",
   "name": "python3"
  },
  "language_info": {
   "codemirror_mode": {
    "name": "ipython",
    "version": 2
   },
   "file_extension": ".py",
   "mimetype": "text/x-python",
   "name": "python",
   "nbconvert_exporter": "python",
   "pygments_lexer": "ipython2",
   "version": "2.7.6"
  }
 },
 "nbformat": 4,
 "nbformat_minor": 0
}