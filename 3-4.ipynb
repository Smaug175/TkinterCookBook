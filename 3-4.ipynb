{
 "cells": [
  {
   "cell_type": "markdown",
   "source": [
    "place( )方法内的x和y参数可直接设定窗口组件的左上方位置，单位是像素。窗口显示区的左上角是（x=0,y=0），x是向右递增，y是向下递增。同时使用这种方法时，窗口将不会自动重设大小而是使用默认的大小显示，可参考ch3_36.py的执行结果。"
   ],
   "metadata": {
    "collapsed": false,
    "pycharm": {
     "name": "#%% md\n"
    }
   }
  },
  {
   "cell_type": "code",
   "execution_count": 1,
   "outputs": [],
   "source": [
    "from tkinter import *\n",
    "\n",
    "win=Tk()\n",
    "\n",
    "l1=Label(win,text='abcdefg',bg='yellow',width=15)\n",
    "l2=Label(win,text='abcd',bg='lightgreen',width=15)\n",
    "l3=Label(win,text='abcdefg',bg='lightblue',width=15)\n",
    "\n",
    "l1.place(x=0,y=0)\n",
    "l2.place(x=30,y=50)\n",
    "l3.place(x=60,y=100)\n",
    "\n",
    "win.mainloop()"
   ],
   "metadata": {
    "collapsed": false,
    "pycharm": {
     "name": "#%%\n"
    }
   }
  },
  {
   "cell_type": "code",
   "execution_count": 2,
   "outputs": [],
   "source": [
    "from tkinter import *\n",
    "root=Tk()\n",
    "root.geometry('640x480')\n",
    "\n",
    "img=PhotoImage(file='2.gif')\n",
    "l1=Label(root,image=img)\n",
    "l1.place(x=20,y=30,width=200,height=120)\n",
    "\n",
    "l2=Label(root,image=img)\n",
    "l2.place(x=200,y=200,width=400,height=240)\n",
    "\n",
    "root.mainloop()"
   ],
   "metadata": {
    "collapsed": false,
    "pycharm": {
     "name": "#%%\n"
    }
   }
  },
  {
   "cell_type": "code",
   "execution_count": 3,
   "outputs": [],
   "source": [
    "#relx/rely可以设置相对于父容器（可想成父窗口）的位置，relwidth/relheight设置相对大小。这个相对位置与相对大小是相对于父窗口而言，其值为0.0 ~ 1\n",
    "from tkinter import *\n",
    "root=Tk()\n",
    "root.geometry('640x480')\n",
    "\n",
    "img=PhotoImage(file='2.gif')\n",
    "l1=Label(root,image=img)\n",
    "l1.place(relx=0.1,rely=0.1,relwidth=0.8,relheight=0.8)\n",
    "\n",
    "root.mainloop()"
   ],
   "metadata": {
    "collapsed": false,
    "pycharm": {
     "name": "#%%\n"
    }
   }
  },
  {
   "cell_type": "code",
   "execution_count": null,
   "outputs": [],
   "source": [],
   "metadata": {
    "collapsed": false,
    "pycharm": {
     "name": "#%%\n"
    }
   }
  }
 ],
 "metadata": {
  "kernelspec": {
   "display_name": "Python 3",
   "language": "python",
   "name": "python3"
  },
  "language_info": {
   "codemirror_mode": {
    "name": "ipython",
    "version": 2
   },
   "file_extension": ".py",
   "mimetype": "text/x-python",
   "name": "python",
   "nbconvert_exporter": "python",
   "pygments_lexer": "ipython2",
   "version": "2.7.6"
  }
 },
 "nbformat": 4,
 "nbformat_minor": 0
}