{
 "cells": [
  {
   "cell_type": "code",
   "execution_count": 4,
   "metadata": {},
   "outputs": [],
   "source": [
    "from tkinter import *\n",
    "\n",
    "root=Tk()\n",
    "root.title('ch5_1')\n",
    "\n",
    "nameL=Label(root,text='Name')\n",
    "nameL.grid(row=0)\n",
    "\n",
    "addressL=Label(root,text='Address')\n",
    "addressL.grid(row=1)\n",
    "\n",
    "nameE=Entry(root)\n",
    "addressE=Entry(root)\n",
    "nameE.grid(row=0,column=1)\n",
    "addressE.grid(row=1,column=1)\n",
    "\n",
    "root.mainloop()"
   ]
  },
  {
   "cell_type": "code",
   "execution_count": 10,
   "metadata": {},
   "outputs": [],
   "source": [
    "from tkinter import *\n",
    "from tkinter.ttk import *\n",
    "\n",
    "root=Tk()\n",
    "root.title('ch5_2')\n",
    "\n",
    "accountL=Label(root,text='Account')\n",
    "passwordL=Label(root,text='Password')\n",
    "accountL.grid(row=0,sticky=W)\n",
    "passwordL.grid(row=1,sticky=W)\n",
    "\n",
    "accountE=Entry(root)\n",
    "passwordE=Entry(root,show='*')\n",
    "accountE.grid(row=0,column=1)\n",
    "passwordE.grid(row=1,column=1)\n",
    "\n",
    "root.mainloop()"
   ]
  },
  {
   "cell_type": "code",
   "execution_count": 13,
   "metadata": {},
   "outputs": [],
   "source": [
    "from tkinter import *\n",
    "\n",
    "root=Tk()\n",
    "root.title('ch5_3')\n",
    "\n",
    "msg='Python is a good programming language.'\n",
    "seegif=PhotoImage(file='D:\\Desk\\GUI\\TkinkerCookBook\\img\\\\1.gif')\n",
    "logo=Label(root,image=seegif,text=msg,compound=BOTTOM)\n",
    "accountL=Label(root,text='Account')\n",
    "accountL.grid(row=1,)\n",
    "pwdL=Label(root,text='Password')\n",
    "pwdL.grid(row=2,)\n",
    "logo.grid(row=0,column=0,rowspan=2,padx=10,pady=10)\n",
    "\n",
    "accountE=Entry(root)\n",
    "pwdE=Entry(root,show='*')\n",
    "accountE.grid(row=1,column=1)\n",
    "pwdE.grid(row=2,column=1,pady=10)\n",
    "\n",
    "root.mainloop()"
   ]
  },
  {
   "cell_type": "code",
   "execution_count": 2,
   "metadata": {},
   "outputs": [],
   "source": [
    "from tkinter import *\n",
    "def printInfo():\n",
    "    print('Account:%s\\nPassword:%s'%(accountE.get(),pwdE.get()))\n",
    "\n",
    "root=Tk()\n",
    "root.title('ch5_4')\n",
    "\n",
    "msg='Python is a good programming language.'\n",
    "seegif=PhotoImage(file='D:\\Desk\\GUI\\TkinkerCookBook\\img\\\\1.gif')\n",
    "logo=Label(root,image=seegif,text=msg,compound=BOTTOM)\n",
    "accountL=Label(root,text='Account')\n",
    "accountL.grid(row=1,)\n",
    "pwdL=Label(root,text='Password')\n",
    "pwdL.grid(row=2,)\n",
    "\n",
    "logo.grid(row=0,column=0,rowspan=2,padx=10,pady=10)\n",
    "\n",
    "accountE=Entry(root)\n",
    "pwdE=Entry(root,show='*')\n",
    "accountE.grid(row=1,column=1)\n",
    "pwdE.grid(row=2,column=1,pady=10)\n",
    "\n",
    "linbutton=Button(root,text='Login',command=printInfo)\n",
    "linbutton.grid(row=3,column=0)\n",
    "outbutton=Button(root,text='Quit',command=root.destroy)\n",
    "outbutton.grid(row=3,column=1)\n",
    "\n",
    "root.mainloop()"
   ]
  },
  {
   "cell_type": "code",
   "execution_count": 4,
   "metadata": {},
   "outputs": [],
   "source": [
    "from tkinter import *\n",
    "def printInfo():\n",
    "    print('Account:%s\\nPassword:%s'%(accountE.get(),pwdE.get()))\n",
    "\n",
    "root=Tk()\n",
    "root.title('ch5_4')\n",
    "\n",
    "msg='Python is a good programming language.'\n",
    "seegif=PhotoImage(file='D:\\Desk\\GUI\\TkinkerCookBook\\img\\\\1.gif')\n",
    "logo=Label(root,image=seegif,text=msg,compound=BOTTOM)\n",
    "accountL=Label(root,text='Account')\n",
    "accountL.grid(row=1,sticky=W)\n",
    "pwdL=Label(root,text='Password')\n",
    "pwdL.grid(row=2,sticky=W)\n",
    "\n",
    "logo.grid(row=0,column=0,rowspan=2,padx=10,pady=10)\n",
    "\n",
    "accountE=Entry(root)\n",
    "pwdE=Entry(root,show='*')\n",
    "accountE.grid(row=1,column=1)\n",
    "pwdE.grid(row=2,column=1,pady=10)\n",
    "\n",
    "linbutton=Button(root,text='Login',command=printInfo)\n",
    "linbutton.grid(row=3,column=0,sticky=W,pady=10)\n",
    "outbutton=Button(root,text='Quit',command=root.destroy)\n",
    "outbutton.grid(row=3,column=1,sticky=W,pady=10)\n",
    "\n",
    "root.mainloop()"
   ]
  },
  {
   "cell_type": "code",
   "execution_count": 6,
   "metadata": {},
   "outputs": [
    {
     "name": "stdout",
     "output_type": "stream",
     "text": [
      "Account:Python\n",
      "Password:12345\n"
     ]
    }
   ],
   "source": [
    "from tkinter import *\n",
    "def printInfo():\n",
    "    print('Account:%s\\nPassword:%s'%(accountE.get(),pwdE.get()))\n",
    "\n",
    "root=Tk()\n",
    "root.title('ch5_4')\n",
    "\n",
    "msg='Python is a good programming language.'\n",
    "seegif=PhotoImage(file='D:\\Desk\\GUI\\TkinkerCookBook\\img\\\\1.gif')\n",
    "logo=Label(root,image=seegif,text=msg,compound=BOTTOM)\n",
    "accountL=Label(root,text='Account')\n",
    "accountL.grid(row=1,sticky=W)\n",
    "pwdL=Label(root,text='Password')\n",
    "pwdL.grid(row=2,sticky=W)\n",
    "\n",
    "logo.grid(row=0,column=0,rowspan=2,padx=10,pady=10)\n",
    "\n",
    "accountE=Entry(root)\n",
    "pwdE=Entry(root,show='*')\n",
    "accountE.insert(0,'Python')\n",
    "pwdE.insert(0,'12345')\n",
    "accountE.grid(row=1,column=1)\n",
    "pwdE.grid(row=2,column=1,pady=10)\n",
    "\n",
    "linbutton=Button(root,text='Login',command=printInfo)\n",
    "linbutton.grid(row=3,column=0,sticky=W,pady=10)\n",
    "outbutton=Button(root,text='Quit',command=root.destroy)\n",
    "outbutton.grid(row=3,column=1,sticky=W,pady=10)\n",
    "\n",
    "root.mainloop()"
   ]
  },
  {
   "cell_type": "code",
   "execution_count": 7,
   "metadata": {},
   "outputs": [
    {
     "name": "stdout",
     "output_type": "stream",
     "text": [
      "Account:Python\n",
      "Password:12345\n"
     ]
    }
   ],
   "source": [
    "from tkinter import *\n",
    "def printInfo():\n",
    "    print('Account:%s\\nPassword:%s'%(accountE.get(),pwdE.get()))\n",
    "    accountE.delete(0,END)\n",
    "    pwdE.delete(0,END)\n",
    "\n",
    "root=Tk()\n",
    "root.title('ch5_4')\n",
    "\n",
    "msg='Python is a good programming language.'\n",
    "seegif=PhotoImage(file='D:\\Desk\\GUI\\TkinkerCookBook\\img\\\\1.gif')\n",
    "logo=Label(root,image=seegif,text=msg,compound=BOTTOM)\n",
    "accountL=Label(root,text='Account')\n",
    "accountL.grid(row=1,sticky=W)\n",
    "pwdL=Label(root,text='Password')\n",
    "pwdL.grid(row=2,sticky=W)\n",
    "\n",
    "logo.grid(row=0,column=0,rowspan=2,padx=10,pady=10)\n",
    "\n",
    "accountE=Entry(root)\n",
    "pwdE=Entry(root,show='*')\n",
    "accountE.insert(0,'Python')\n",
    "pwdE.insert(0,'12345')\n",
    "accountE.grid(row=1,column=1)\n",
    "pwdE.grid(row=2,column=1,pady=10)\n",
    "\n",
    "linbutton=Button(root,text='Login',command=printInfo)\n",
    "linbutton.grid(row=3,column=0,sticky=W,pady=10)\n",
    "outbutton=Button(root,text='Quit',command=root.destroy)\n",
    "outbutton.grid(row=3,column=1,sticky=W,pady=10)\n",
    "\n",
    "root.mainloop()"
   ]
  },
  {
   "cell_type": "code",
   "execution_count": 3,
   "metadata": {},
   "outputs": [
    {
     "name": "stdout",
     "output_type": "stream",
     "text": [
      "结果是： 98\n"
     ]
    }
   ],
   "source": [
    "from tkinter import *\n",
    "\n",
    "expression=input('Please input an 数学表达式:')\n",
    "\n",
    "print('结果是：',eval(expression))\n"
   ]
  },
  {
   "cell_type": "code",
   "execution_count": 4,
   "metadata": {},
   "outputs": [],
   "source": [
    "from tkinter import *\n",
    "\n",
    "def cal():\n",
    "    out.configure(text='结果是：'+str(eval(equ.get())))\n",
    "\n",
    "root=Tk()  \n",
    "root.title('ch5_5')\n",
    "\n",
    "label=Label(root,text='请输入一个数学表达式：')\n",
    "label.grid(row=0,column=0)\n",
    "equ=Entry(root)\n",
    "equ.grid(row=0,column=1,padx=10,pady=10)\n",
    "out=Label(root)\n",
    "out.grid(row=1,column=0,columnspan=2)\n",
    "btn=Button(root,text='计算',command=cal)\n",
    "btn.grid(row=2,column=0,columnspan=2,pady=10)\n",
    "\n",
    "root.mainloop()"
   ]
  },
  {
   "cell_type": "code",
   "execution_count": null,
   "metadata": {},
   "outputs": [],
   "source": []
  }
 ],
 "metadata": {
  "kernelspec": {
   "display_name": "py39",
   "language": "python",
   "name": "python3"
  },
  "language_info": {
   "codemirror_mode": {
    "name": "ipython",
    "version": 3
   },
   "file_extension": ".py",
   "mimetype": "text/x-python",
   "name": "python",
   "nbconvert_exporter": "python",
   "pygments_lexer": "ipython3",
   "version": "3.9.16"
  },
  "orig_nbformat": 4
 },
 "nbformat": 4,
 "nbformat_minor": 2
}
